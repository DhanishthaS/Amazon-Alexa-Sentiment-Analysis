{
  "nbformat": 4,
  "nbformat_minor": 0,
  "metadata": {
    "kernelspec": {
      "display_name": "Python 3",
      "language": "python",
      "name": "python3"
    },
    "language_info": {
      "codemirror_mode": {
        "name": "ipython",
        "version": 3
      },
      "file_extension": ".py",
      "mimetype": "text/x-python",
      "name": "python",
      "nbconvert_exporter": "python",
      "pygments_lexer": "ipython3",
      "version": "3.8.5"
    },
    "colab": {
      "name": "natural-language-processing-sentiment-analysis.ipynb",
      "provenance": []
    }
  },
  "cells": [
    {
      "cell_type": "code",
      "metadata": {
        "_cell_guid": "b1076dfc-b9ad-4769-8c92-a6c4dae69d19",
        "_uuid": "8f2839f25d086af736a60e9eeb907d3b93b6e0e5",
        "id": "7DLWVw29wGwb"
      },
      "source": [
        "import re\n",
        "import string\n",
        "import pandas as pd\n",
        "import numpy as np\n",
        "import seaborn as sns\n",
        "import matplotlib.pyplot as plt\n",
        "\n",
        "import math\n",
        "import nltk\n",
        "\n",
        "\n",
        "import os"
      ],
      "execution_count": null,
      "outputs": []
    },
    {
      "cell_type": "markdown",
      "metadata": {
        "_uuid": "53134ca38796b8b1ab1ca46b77051323f365350e",
        "id": "folo0xLAwGwd"
      },
      "source": [
        "Improting the data. From data.head(-50) we can see number of inputs. There are total 3100 feedbacks. "
      ]
    },
    {
      "cell_type": "code",
      "metadata": {
        "_uuid": "3e856c0880bb8207b027b9cffe8e27a353c761ed",
        "colab": {
          "base_uri": "https://localhost:8080/"
        },
        "id": "nmGpYglfwGwe",
        "outputId": "0789adf1-78d1-45f5-aad0-f40fa326f2b9"
      },
      "source": [
        "from google.colab import drive\n",
        "drive.mount('/content/drive')\n",
        "\n"
      ],
      "execution_count": null,
      "outputs": [
        {
          "output_type": "stream",
          "text": [
            "Drive already mounted at /content/drive; to attempt to forcibly remount, call drive.mount(\"/content/drive\", force_remount=True).\n"
          ],
          "name": "stdout"
        }
      ]
    },
    {
      "cell_type": "code",
      "metadata": {
        "colab": {
          "base_uri": "https://localhost:8080/",
          "height": 581
        },
        "id": "GgCrtspbxJ_x",
        "outputId": "1b696863-b6ea-4957-cb41-d4fb4616d703"
      },
      "source": [
        "sns.set()\n",
        "data_path = \"/content/drive/MyDrive/amazon_alexa.tsv\"\n",
        "data = pd.read_csv(data_path, sep='\\t')\n",
        "data.head(-50)"
      ],
      "execution_count": null,
      "outputs": [
        {
          "output_type": "execute_result",
          "data": {
            "text/html": [
              "<div>\n",
              "<style scoped>\n",
              "    .dataframe tbody tr th:only-of-type {\n",
              "        vertical-align: middle;\n",
              "    }\n",
              "\n",
              "    .dataframe tbody tr th {\n",
              "        vertical-align: top;\n",
              "    }\n",
              "\n",
              "    .dataframe thead th {\n",
              "        text-align: right;\n",
              "    }\n",
              "</style>\n",
              "<table border=\"1\" class=\"dataframe\">\n",
              "  <thead>\n",
              "    <tr style=\"text-align: right;\">\n",
              "      <th></th>\n",
              "      <th>rating</th>\n",
              "      <th>date</th>\n",
              "      <th>variation</th>\n",
              "      <th>verified_reviews</th>\n",
              "      <th>feedback</th>\n",
              "    </tr>\n",
              "  </thead>\n",
              "  <tbody>\n",
              "    <tr>\n",
              "      <th>0</th>\n",
              "      <td>5</td>\n",
              "      <td>31-Jul-18</td>\n",
              "      <td>Charcoal Fabric</td>\n",
              "      <td>Love my Echo!</td>\n",
              "      <td>1</td>\n",
              "    </tr>\n",
              "    <tr>\n",
              "      <th>1</th>\n",
              "      <td>5</td>\n",
              "      <td>31-Jul-18</td>\n",
              "      <td>Charcoal Fabric</td>\n",
              "      <td>Loved it!</td>\n",
              "      <td>1</td>\n",
              "    </tr>\n",
              "    <tr>\n",
              "      <th>2</th>\n",
              "      <td>4</td>\n",
              "      <td>31-Jul-18</td>\n",
              "      <td>Walnut Finish</td>\n",
              "      <td>Sometimes while playing a game, you can answer...</td>\n",
              "      <td>1</td>\n",
              "    </tr>\n",
              "    <tr>\n",
              "      <th>3</th>\n",
              "      <td>5</td>\n",
              "      <td>31-Jul-18</td>\n",
              "      <td>Charcoal Fabric</td>\n",
              "      <td>I have had a lot of fun with this thing. My 4 ...</td>\n",
              "      <td>1</td>\n",
              "    </tr>\n",
              "    <tr>\n",
              "      <th>4</th>\n",
              "      <td>5</td>\n",
              "      <td>31-Jul-18</td>\n",
              "      <td>Charcoal Fabric</td>\n",
              "      <td>Music</td>\n",
              "      <td>1</td>\n",
              "    </tr>\n",
              "    <tr>\n",
              "      <th>...</th>\n",
              "      <td>...</td>\n",
              "      <td>...</td>\n",
              "      <td>...</td>\n",
              "      <td>...</td>\n",
              "      <td>...</td>\n",
              "    </tr>\n",
              "    <tr>\n",
              "      <th>3095</th>\n",
              "      <td>5</td>\n",
              "      <td>30-Jul-18</td>\n",
              "      <td>Black  Dot</td>\n",
              "      <td>Does what I expected, and more.</td>\n",
              "      <td>1</td>\n",
              "    </tr>\n",
              "    <tr>\n",
              "      <th>3096</th>\n",
              "      <td>1</td>\n",
              "      <td>30-Jul-18</td>\n",
              "      <td>White  Dot</td>\n",
              "      <td>The product sounded the same as the emoji spea...</td>\n",
              "      <td>0</td>\n",
              "    </tr>\n",
              "    <tr>\n",
              "      <th>3097</th>\n",
              "      <td>5</td>\n",
              "      <td>30-Jul-18</td>\n",
              "      <td>Black  Dot</td>\n",
              "      <td>I have a friend now.</td>\n",
              "      <td>1</td>\n",
              "    </tr>\n",
              "    <tr>\n",
              "      <th>3098</th>\n",
              "      <td>5</td>\n",
              "      <td>30-Jul-18</td>\n",
              "      <td>White  Dot</td>\n",
              "      <td>It’s easier to do things with it</td>\n",
              "      <td>1</td>\n",
              "    </tr>\n",
              "    <tr>\n",
              "      <th>3099</th>\n",
              "      <td>4</td>\n",
              "      <td>30-Jul-18</td>\n",
              "      <td>Black  Dot</td>\n",
              "      <td>Good device</td>\n",
              "      <td>1</td>\n",
              "    </tr>\n",
              "  </tbody>\n",
              "</table>\n",
              "<p>3100 rows × 5 columns</p>\n",
              "</div>"
            ],
            "text/plain": [
              "      rating  ... feedback\n",
              "0          5  ...        1\n",
              "1          5  ...        1\n",
              "2          4  ...        1\n",
              "3          5  ...        1\n",
              "4          5  ...        1\n",
              "...      ...  ...      ...\n",
              "3095       5  ...        1\n",
              "3096       1  ...        0\n",
              "3097       5  ...        1\n",
              "3098       5  ...        1\n",
              "3099       4  ...        1\n",
              "\n",
              "[3100 rows x 5 columns]"
            ]
          },
          "metadata": {
            "tags": []
          },
          "execution_count": 5
        }
      ]
    },
    {
      "cell_type": "code",
      "metadata": {
        "colab": {
          "base_uri": "https://localhost:8080/",
          "height": 414
        },
        "id": "SZStihI1wGwf",
        "outputId": "9f938092-fb1c-4b12-9558-2e2a95aecd74"
      },
      "source": [
        "data.isnull()\n",
        "#to see any NaN is the dataset"
      ],
      "execution_count": null,
      "outputs": [
        {
          "output_type": "execute_result",
          "data": {
            "text/html": [
              "<div>\n",
              "<style scoped>\n",
              "    .dataframe tbody tr th:only-of-type {\n",
              "        vertical-align: middle;\n",
              "    }\n",
              "\n",
              "    .dataframe tbody tr th {\n",
              "        vertical-align: top;\n",
              "    }\n",
              "\n",
              "    .dataframe thead th {\n",
              "        text-align: right;\n",
              "    }\n",
              "</style>\n",
              "<table border=\"1\" class=\"dataframe\">\n",
              "  <thead>\n",
              "    <tr style=\"text-align: right;\">\n",
              "      <th></th>\n",
              "      <th>rating</th>\n",
              "      <th>date</th>\n",
              "      <th>variation</th>\n",
              "      <th>verified_reviews</th>\n",
              "      <th>feedback</th>\n",
              "    </tr>\n",
              "  </thead>\n",
              "  <tbody>\n",
              "    <tr>\n",
              "      <th>0</th>\n",
              "      <td>False</td>\n",
              "      <td>False</td>\n",
              "      <td>False</td>\n",
              "      <td>False</td>\n",
              "      <td>False</td>\n",
              "    </tr>\n",
              "    <tr>\n",
              "      <th>1</th>\n",
              "      <td>False</td>\n",
              "      <td>False</td>\n",
              "      <td>False</td>\n",
              "      <td>False</td>\n",
              "      <td>False</td>\n",
              "    </tr>\n",
              "    <tr>\n",
              "      <th>2</th>\n",
              "      <td>False</td>\n",
              "      <td>False</td>\n",
              "      <td>False</td>\n",
              "      <td>False</td>\n",
              "      <td>False</td>\n",
              "    </tr>\n",
              "    <tr>\n",
              "      <th>3</th>\n",
              "      <td>False</td>\n",
              "      <td>False</td>\n",
              "      <td>False</td>\n",
              "      <td>False</td>\n",
              "      <td>False</td>\n",
              "    </tr>\n",
              "    <tr>\n",
              "      <th>4</th>\n",
              "      <td>False</td>\n",
              "      <td>False</td>\n",
              "      <td>False</td>\n",
              "      <td>False</td>\n",
              "      <td>False</td>\n",
              "    </tr>\n",
              "    <tr>\n",
              "      <th>...</th>\n",
              "      <td>...</td>\n",
              "      <td>...</td>\n",
              "      <td>...</td>\n",
              "      <td>...</td>\n",
              "      <td>...</td>\n",
              "    </tr>\n",
              "    <tr>\n",
              "      <th>3145</th>\n",
              "      <td>False</td>\n",
              "      <td>False</td>\n",
              "      <td>False</td>\n",
              "      <td>False</td>\n",
              "      <td>False</td>\n",
              "    </tr>\n",
              "    <tr>\n",
              "      <th>3146</th>\n",
              "      <td>False</td>\n",
              "      <td>False</td>\n",
              "      <td>False</td>\n",
              "      <td>False</td>\n",
              "      <td>False</td>\n",
              "    </tr>\n",
              "    <tr>\n",
              "      <th>3147</th>\n",
              "      <td>False</td>\n",
              "      <td>False</td>\n",
              "      <td>False</td>\n",
              "      <td>False</td>\n",
              "      <td>False</td>\n",
              "    </tr>\n",
              "    <tr>\n",
              "      <th>3148</th>\n",
              "      <td>False</td>\n",
              "      <td>False</td>\n",
              "      <td>False</td>\n",
              "      <td>False</td>\n",
              "      <td>False</td>\n",
              "    </tr>\n",
              "    <tr>\n",
              "      <th>3149</th>\n",
              "      <td>False</td>\n",
              "      <td>False</td>\n",
              "      <td>False</td>\n",
              "      <td>False</td>\n",
              "      <td>False</td>\n",
              "    </tr>\n",
              "  </tbody>\n",
              "</table>\n",
              "<p>3150 rows × 5 columns</p>\n",
              "</div>"
            ],
            "text/plain": [
              "      rating   date  variation  verified_reviews  feedback\n",
              "0      False  False      False             False     False\n",
              "1      False  False      False             False     False\n",
              "2      False  False      False             False     False\n",
              "3      False  False      False             False     False\n",
              "4      False  False      False             False     False\n",
              "...      ...    ...        ...               ...       ...\n",
              "3145   False  False      False             False     False\n",
              "3146   False  False      False             False     False\n",
              "3147   False  False      False             False     False\n",
              "3148   False  False      False             False     False\n",
              "3149   False  False      False             False     False\n",
              "\n",
              "[3150 rows x 5 columns]"
            ]
          },
          "metadata": {
            "tags": []
          },
          "execution_count": 6
        }
      ]
    },
    {
      "cell_type": "code",
      "metadata": {
        "id": "MQQE7-chwGwg",
        "colab": {
          "base_uri": "https://localhost:8080/"
        },
        "outputId": "273e5b5f-8c5c-42ce-a26f-95096343749c"
      },
      "source": [
        "data.isnull().values.any()\n",
        "#to see of there are is any missing value"
      ],
      "execution_count": null,
      "outputs": [
        {
          "output_type": "execute_result",
          "data": {
            "text/plain": [
              "False"
            ]
          },
          "metadata": {
            "tags": []
          },
          "execution_count": 7
        }
      ]
    },
    {
      "cell_type": "markdown",
      "metadata": {
        "_uuid": "137240e8761c49c853752e10fbb16c930a641258",
        "id": "VzkbGX6uwGwg"
      },
      "source": [
        "#Basic Exploratory Data Analysis\n"
      ]
    },
    {
      "cell_type": "code",
      "metadata": {
        "id": "yUdaE69MwGwg",
        "colab": {
          "base_uri": "https://localhost:8080/"
        },
        "outputId": "097acaf6-f9e9-406e-fe69-009686a14d4d"
      },
      "source": [
        "data.info()"
      ],
      "execution_count": null,
      "outputs": [
        {
          "output_type": "stream",
          "text": [
            "<class 'pandas.core.frame.DataFrame'>\n",
            "RangeIndex: 3150 entries, 0 to 3149\n",
            "Data columns (total 5 columns):\n",
            " #   Column            Non-Null Count  Dtype \n",
            "---  ------            --------------  ----- \n",
            " 0   rating            3150 non-null   int64 \n",
            " 1   date              3150 non-null   object\n",
            " 2   variation         3150 non-null   object\n",
            " 3   verified_reviews  3150 non-null   object\n",
            " 4   feedback          3150 non-null   int64 \n",
            "dtypes: int64(2), object(3)\n",
            "memory usage: 123.2+ KB\n"
          ],
          "name": "stdout"
        }
      ]
    },
    {
      "cell_type": "code",
      "metadata": {
        "colab": {
          "base_uri": "https://localhost:8080/",
          "height": 758
        },
        "id": "7stLB6LKwGwh",
        "outputId": "bffdeda7-eeba-4972-c9c0-efaf376d04ad"
      },
      "source": [
        "data.sample(n=15)"
      ],
      "execution_count": null,
      "outputs": [
        {
          "output_type": "execute_result",
          "data": {
            "text/html": [
              "<div>\n",
              "<style scoped>\n",
              "    .dataframe tbody tr th:only-of-type {\n",
              "        vertical-align: middle;\n",
              "    }\n",
              "\n",
              "    .dataframe tbody tr th {\n",
              "        vertical-align: top;\n",
              "    }\n",
              "\n",
              "    .dataframe thead th {\n",
              "        text-align: right;\n",
              "    }\n",
              "</style>\n",
              "<table border=\"1\" class=\"dataframe\">\n",
              "  <thead>\n",
              "    <tr style=\"text-align: right;\">\n",
              "      <th></th>\n",
              "      <th>rating</th>\n",
              "      <th>date</th>\n",
              "      <th>variation</th>\n",
              "      <th>verified_reviews</th>\n",
              "      <th>feedback</th>\n",
              "    </tr>\n",
              "  </thead>\n",
              "  <tbody>\n",
              "    <tr>\n",
              "      <th>1901</th>\n",
              "      <td>5</td>\n",
              "      <td>27-Jul-18</td>\n",
              "      <td>Black  Plus</td>\n",
              "      <td>The echo plus is very straight forward and eas...</td>\n",
              "      <td>1</td>\n",
              "    </tr>\n",
              "    <tr>\n",
              "      <th>956</th>\n",
              "      <td>5</td>\n",
              "      <td>29-Jul-18</td>\n",
              "      <td>Charcoal Fabric</td>\n",
              "      <td>I already have an Alexa and with Amazon find t...</td>\n",
              "      <td>1</td>\n",
              "    </tr>\n",
              "    <tr>\n",
              "      <th>221</th>\n",
              "      <td>4</td>\n",
              "      <td>29-Jul-18</td>\n",
              "      <td>Charcoal Fabric</td>\n",
              "      <td>Good quality, great sound quality</td>\n",
              "      <td>1</td>\n",
              "    </tr>\n",
              "    <tr>\n",
              "      <th>3025</th>\n",
              "      <td>5</td>\n",
              "      <td>30-Jul-18</td>\n",
              "      <td>Black  Dot</td>\n",
              "      <td>Listens well, does way more than expected, lov...</td>\n",
              "      <td>1</td>\n",
              "    </tr>\n",
              "    <tr>\n",
              "      <th>2474</th>\n",
              "      <td>5</td>\n",
              "      <td>30-Jul-18</td>\n",
              "      <td>White  Dot</td>\n",
              "      <td>I love it!!</td>\n",
              "      <td>1</td>\n",
              "    </tr>\n",
              "    <tr>\n",
              "      <th>1961</th>\n",
              "      <td>5</td>\n",
              "      <td>25-Jul-18</td>\n",
              "      <td>Black  Plus</td>\n",
              "      <td>It has great sound and very responsive to comm...</td>\n",
              "      <td>1</td>\n",
              "    </tr>\n",
              "    <tr>\n",
              "      <th>2044</th>\n",
              "      <td>5</td>\n",
              "      <td>14-Jul-18</td>\n",
              "      <td>Black  Plus</td>\n",
              "      <td>Love, Love, Love my Amazon Echo Plus!!❤️❤️</td>\n",
              "      <td>1</td>\n",
              "    </tr>\n",
              "    <tr>\n",
              "      <th>282</th>\n",
              "      <td>5</td>\n",
              "      <td>29-Jul-18</td>\n",
              "      <td>Charcoal Fabric</td>\n",
              "      <td>Nice product A+</td>\n",
              "      <td>1</td>\n",
              "    </tr>\n",
              "    <tr>\n",
              "      <th>1334</th>\n",
              "      <td>5</td>\n",
              "      <td>20-Jul-18</td>\n",
              "      <td>Black  Spot</td>\n",
              "      <td>What a wonderful little Alexa enabled gadget a...</td>\n",
              "      <td>1</td>\n",
              "    </tr>\n",
              "    <tr>\n",
              "      <th>2414</th>\n",
              "      <td>1</td>\n",
              "      <td>30-Jul-18</td>\n",
              "      <td>Configuration: Fire TV Stick</td>\n",
              "      <td>I would love this remote if i wasnt spending s...</td>\n",
              "      <td>0</td>\n",
              "    </tr>\n",
              "    <tr>\n",
              "      <th>2267</th>\n",
              "      <td>5</td>\n",
              "      <td>30-Jul-18</td>\n",
              "      <td>Configuration: Fire TV Stick</td>\n",
              "      <td>Great ! It was the best decision ! Especially ...</td>\n",
              "      <td>1</td>\n",
              "    </tr>\n",
              "    <tr>\n",
              "      <th>2347</th>\n",
              "      <td>4</td>\n",
              "      <td>30-Jul-18</td>\n",
              "      <td>Configuration: Fire TV Stick</td>\n",
              "      <td>I have 2 of them the one I have to reset it at...</td>\n",
              "      <td>1</td>\n",
              "    </tr>\n",
              "    <tr>\n",
              "      <th>1445</th>\n",
              "      <td>5</td>\n",
              "      <td>30-Jul-18</td>\n",
              "      <td>Black  Show</td>\n",
              "      <td>I do love it. Was easy to set up so far, but I...</td>\n",
              "      <td>1</td>\n",
              "    </tr>\n",
              "    <tr>\n",
              "      <th>148</th>\n",
              "      <td>5</td>\n",
              "      <td>30-Jul-18</td>\n",
              "      <td>Heather Gray Fabric</td>\n",
              "      <td>I like the looks better than the original echo...</td>\n",
              "      <td>1</td>\n",
              "    </tr>\n",
              "    <tr>\n",
              "      <th>108</th>\n",
              "      <td>4</td>\n",
              "      <td>30-Jul-18</td>\n",
              "      <td>Charcoal Fabric</td>\n",
              "      <td>It’s still a great product.But the sound quali...</td>\n",
              "      <td>1</td>\n",
              "    </tr>\n",
              "  </tbody>\n",
              "</table>\n",
              "</div>"
            ],
            "text/plain": [
              "      rating  ... feedback\n",
              "1901       5  ...        1\n",
              "956        5  ...        1\n",
              "221        4  ...        1\n",
              "3025       5  ...        1\n",
              "2474       5  ...        1\n",
              "1961       5  ...        1\n",
              "2044       5  ...        1\n",
              "282        5  ...        1\n",
              "1334       5  ...        1\n",
              "2414       1  ...        0\n",
              "2267       5  ...        1\n",
              "2347       4  ...        1\n",
              "1445       5  ...        1\n",
              "148        5  ...        1\n",
              "108        4  ...        1\n",
              "\n",
              "[15 rows x 5 columns]"
            ]
          },
          "metadata": {
            "tags": []
          },
          "execution_count": 9
        }
      ]
    },
    {
      "cell_type": "code",
      "metadata": {
        "colab": {
          "base_uri": "https://localhost:8080/",
          "height": 294
        },
        "id": "SXt_HBlvwGwi",
        "outputId": "2898591b-9931-4096-b87e-acf399591ec1"
      },
      "source": [
        "data.describe()"
      ],
      "execution_count": null,
      "outputs": [
        {
          "output_type": "execute_result",
          "data": {
            "text/html": [
              "<div>\n",
              "<style scoped>\n",
              "    .dataframe tbody tr th:only-of-type {\n",
              "        vertical-align: middle;\n",
              "    }\n",
              "\n",
              "    .dataframe tbody tr th {\n",
              "        vertical-align: top;\n",
              "    }\n",
              "\n",
              "    .dataframe thead th {\n",
              "        text-align: right;\n",
              "    }\n",
              "</style>\n",
              "<table border=\"1\" class=\"dataframe\">\n",
              "  <thead>\n",
              "    <tr style=\"text-align: right;\">\n",
              "      <th></th>\n",
              "      <th>rating</th>\n",
              "      <th>feedback</th>\n",
              "    </tr>\n",
              "  </thead>\n",
              "  <tbody>\n",
              "    <tr>\n",
              "      <th>count</th>\n",
              "      <td>3150.000000</td>\n",
              "      <td>3150.000000</td>\n",
              "    </tr>\n",
              "    <tr>\n",
              "      <th>mean</th>\n",
              "      <td>4.463175</td>\n",
              "      <td>0.918413</td>\n",
              "    </tr>\n",
              "    <tr>\n",
              "      <th>std</th>\n",
              "      <td>1.068506</td>\n",
              "      <td>0.273778</td>\n",
              "    </tr>\n",
              "    <tr>\n",
              "      <th>min</th>\n",
              "      <td>1.000000</td>\n",
              "      <td>0.000000</td>\n",
              "    </tr>\n",
              "    <tr>\n",
              "      <th>25%</th>\n",
              "      <td>4.000000</td>\n",
              "      <td>1.000000</td>\n",
              "    </tr>\n",
              "    <tr>\n",
              "      <th>50%</th>\n",
              "      <td>5.000000</td>\n",
              "      <td>1.000000</td>\n",
              "    </tr>\n",
              "    <tr>\n",
              "      <th>75%</th>\n",
              "      <td>5.000000</td>\n",
              "      <td>1.000000</td>\n",
              "    </tr>\n",
              "    <tr>\n",
              "      <th>max</th>\n",
              "      <td>5.000000</td>\n",
              "      <td>1.000000</td>\n",
              "    </tr>\n",
              "  </tbody>\n",
              "</table>\n",
              "</div>"
            ],
            "text/plain": [
              "            rating     feedback\n",
              "count  3150.000000  3150.000000\n",
              "mean      4.463175     0.918413\n",
              "std       1.068506     0.273778\n",
              "min       1.000000     0.000000\n",
              "25%       4.000000     1.000000\n",
              "50%       5.000000     1.000000\n",
              "75%       5.000000     1.000000\n",
              "max       5.000000     1.000000"
            ]
          },
          "metadata": {
            "tags": []
          },
          "execution_count": 10
        }
      ]
    },
    {
      "cell_type": "code",
      "metadata": {
        "colab": {
          "base_uri": "https://localhost:8080/",
          "height": 171
        },
        "id": "8BK6MAXiwGwj",
        "outputId": "27545574-5bbd-4859-a3d4-f02c438d8305"
      },
      "source": [
        "data.groupby('feedback').describe()"
      ],
      "execution_count": null,
      "outputs": [
        {
          "output_type": "execute_result",
          "data": {
            "text/html": [
              "<div>\n",
              "<style scoped>\n",
              "    .dataframe tbody tr th:only-of-type {\n",
              "        vertical-align: middle;\n",
              "    }\n",
              "\n",
              "    .dataframe tbody tr th {\n",
              "        vertical-align: top;\n",
              "    }\n",
              "\n",
              "    .dataframe thead tr th {\n",
              "        text-align: left;\n",
              "    }\n",
              "\n",
              "    .dataframe thead tr:last-of-type th {\n",
              "        text-align: right;\n",
              "    }\n",
              "</style>\n",
              "<table border=\"1\" class=\"dataframe\">\n",
              "  <thead>\n",
              "    <tr>\n",
              "      <th></th>\n",
              "      <th colspan=\"8\" halign=\"left\">rating</th>\n",
              "    </tr>\n",
              "    <tr>\n",
              "      <th></th>\n",
              "      <th>count</th>\n",
              "      <th>mean</th>\n",
              "      <th>std</th>\n",
              "      <th>min</th>\n",
              "      <th>25%</th>\n",
              "      <th>50%</th>\n",
              "      <th>75%</th>\n",
              "      <th>max</th>\n",
              "    </tr>\n",
              "    <tr>\n",
              "      <th>feedback</th>\n",
              "      <th></th>\n",
              "      <th></th>\n",
              "      <th></th>\n",
              "      <th></th>\n",
              "      <th></th>\n",
              "      <th></th>\n",
              "      <th></th>\n",
              "      <th></th>\n",
              "    </tr>\n",
              "  </thead>\n",
              "  <tbody>\n",
              "    <tr>\n",
              "      <th>0</th>\n",
              "      <td>257.0</td>\n",
              "      <td>1.373541</td>\n",
              "      <td>0.484688</td>\n",
              "      <td>1.0</td>\n",
              "      <td>1.0</td>\n",
              "      <td>1.0</td>\n",
              "      <td>2.0</td>\n",
              "      <td>2.0</td>\n",
              "    </tr>\n",
              "    <tr>\n",
              "      <th>1</th>\n",
              "      <td>2893.0</td>\n",
              "      <td>4.737643</td>\n",
              "      <td>0.546544</td>\n",
              "      <td>3.0</td>\n",
              "      <td>5.0</td>\n",
              "      <td>5.0</td>\n",
              "      <td>5.0</td>\n",
              "      <td>5.0</td>\n",
              "    </tr>\n",
              "  </tbody>\n",
              "</table>\n",
              "</div>"
            ],
            "text/plain": [
              "          rating                                             \n",
              "           count      mean       std  min  25%  50%  75%  max\n",
              "feedback                                                     \n",
              "0          257.0  1.373541  0.484688  1.0  1.0  1.0  2.0  2.0\n",
              "1         2893.0  4.737643  0.546544  3.0  5.0  5.0  5.0  5.0"
            ]
          },
          "metadata": {
            "tags": []
          },
          "execution_count": 11
        }
      ]
    },
    {
      "cell_type": "code",
      "metadata": {
        "colab": {
          "base_uri": "https://localhost:8080/",
          "height": 263
        },
        "id": "-PSaZzu8wGwk",
        "outputId": "b5c508b9-095f-4dce-fb55-522685ab36fa"
      },
      "source": [
        "data.groupby('rating').describe()"
      ],
      "execution_count": null,
      "outputs": [
        {
          "output_type": "execute_result",
          "data": {
            "text/html": [
              "<div>\n",
              "<style scoped>\n",
              "    .dataframe tbody tr th:only-of-type {\n",
              "        vertical-align: middle;\n",
              "    }\n",
              "\n",
              "    .dataframe tbody tr th {\n",
              "        vertical-align: top;\n",
              "    }\n",
              "\n",
              "    .dataframe thead tr th {\n",
              "        text-align: left;\n",
              "    }\n",
              "\n",
              "    .dataframe thead tr:last-of-type th {\n",
              "        text-align: right;\n",
              "    }\n",
              "</style>\n",
              "<table border=\"1\" class=\"dataframe\">\n",
              "  <thead>\n",
              "    <tr>\n",
              "      <th></th>\n",
              "      <th colspan=\"8\" halign=\"left\">feedback</th>\n",
              "    </tr>\n",
              "    <tr>\n",
              "      <th></th>\n",
              "      <th>count</th>\n",
              "      <th>mean</th>\n",
              "      <th>std</th>\n",
              "      <th>min</th>\n",
              "      <th>25%</th>\n",
              "      <th>50%</th>\n",
              "      <th>75%</th>\n",
              "      <th>max</th>\n",
              "    </tr>\n",
              "    <tr>\n",
              "      <th>rating</th>\n",
              "      <th></th>\n",
              "      <th></th>\n",
              "      <th></th>\n",
              "      <th></th>\n",
              "      <th></th>\n",
              "      <th></th>\n",
              "      <th></th>\n",
              "      <th></th>\n",
              "    </tr>\n",
              "  </thead>\n",
              "  <tbody>\n",
              "    <tr>\n",
              "      <th>1</th>\n",
              "      <td>161.0</td>\n",
              "      <td>0.0</td>\n",
              "      <td>0.0</td>\n",
              "      <td>0.0</td>\n",
              "      <td>0.0</td>\n",
              "      <td>0.0</td>\n",
              "      <td>0.0</td>\n",
              "      <td>0.0</td>\n",
              "    </tr>\n",
              "    <tr>\n",
              "      <th>2</th>\n",
              "      <td>96.0</td>\n",
              "      <td>0.0</td>\n",
              "      <td>0.0</td>\n",
              "      <td>0.0</td>\n",
              "      <td>0.0</td>\n",
              "      <td>0.0</td>\n",
              "      <td>0.0</td>\n",
              "      <td>0.0</td>\n",
              "    </tr>\n",
              "    <tr>\n",
              "      <th>3</th>\n",
              "      <td>152.0</td>\n",
              "      <td>1.0</td>\n",
              "      <td>0.0</td>\n",
              "      <td>1.0</td>\n",
              "      <td>1.0</td>\n",
              "      <td>1.0</td>\n",
              "      <td>1.0</td>\n",
              "      <td>1.0</td>\n",
              "    </tr>\n",
              "    <tr>\n",
              "      <th>4</th>\n",
              "      <td>455.0</td>\n",
              "      <td>1.0</td>\n",
              "      <td>0.0</td>\n",
              "      <td>1.0</td>\n",
              "      <td>1.0</td>\n",
              "      <td>1.0</td>\n",
              "      <td>1.0</td>\n",
              "      <td>1.0</td>\n",
              "    </tr>\n",
              "    <tr>\n",
              "      <th>5</th>\n",
              "      <td>2286.0</td>\n",
              "      <td>1.0</td>\n",
              "      <td>0.0</td>\n",
              "      <td>1.0</td>\n",
              "      <td>1.0</td>\n",
              "      <td>1.0</td>\n",
              "      <td>1.0</td>\n",
              "      <td>1.0</td>\n",
              "    </tr>\n",
              "  </tbody>\n",
              "</table>\n",
              "</div>"
            ],
            "text/plain": [
              "       feedback                                   \n",
              "          count mean  std  min  25%  50%  75%  max\n",
              "rating                                            \n",
              "1         161.0  0.0  0.0  0.0  0.0  0.0  0.0  0.0\n",
              "2          96.0  0.0  0.0  0.0  0.0  0.0  0.0  0.0\n",
              "3         152.0  1.0  0.0  1.0  1.0  1.0  1.0  1.0\n",
              "4         455.0  1.0  0.0  1.0  1.0  1.0  1.0  1.0\n",
              "5        2286.0  1.0  0.0  1.0  1.0  1.0  1.0  1.0"
            ]
          },
          "metadata": {
            "tags": []
          },
          "execution_count": 12
        }
      ]
    },
    {
      "cell_type": "code",
      "metadata": {
        "colab": {
          "base_uri": "https://localhost:8080/",
          "height": 687
        },
        "id": "9fP8kxIDwGwl",
        "outputId": "a93e301e-8dfc-4d59-c496-bf3b19edd507"
      },
      "source": [
        "data.groupby('variation').describe()"
      ],
      "execution_count": null,
      "outputs": [
        {
          "output_type": "execute_result",
          "data": {
            "text/html": [
              "<div>\n",
              "<style scoped>\n",
              "    .dataframe tbody tr th:only-of-type {\n",
              "        vertical-align: middle;\n",
              "    }\n",
              "\n",
              "    .dataframe tbody tr th {\n",
              "        vertical-align: top;\n",
              "    }\n",
              "\n",
              "    .dataframe thead tr th {\n",
              "        text-align: left;\n",
              "    }\n",
              "\n",
              "    .dataframe thead tr:last-of-type th {\n",
              "        text-align: right;\n",
              "    }\n",
              "</style>\n",
              "<table border=\"1\" class=\"dataframe\">\n",
              "  <thead>\n",
              "    <tr>\n",
              "      <th></th>\n",
              "      <th colspan=\"8\" halign=\"left\">rating</th>\n",
              "      <th colspan=\"8\" halign=\"left\">feedback</th>\n",
              "    </tr>\n",
              "    <tr>\n",
              "      <th></th>\n",
              "      <th>count</th>\n",
              "      <th>mean</th>\n",
              "      <th>std</th>\n",
              "      <th>min</th>\n",
              "      <th>25%</th>\n",
              "      <th>50%</th>\n",
              "      <th>75%</th>\n",
              "      <th>max</th>\n",
              "      <th>count</th>\n",
              "      <th>mean</th>\n",
              "      <th>std</th>\n",
              "      <th>min</th>\n",
              "      <th>25%</th>\n",
              "      <th>50%</th>\n",
              "      <th>75%</th>\n",
              "      <th>max</th>\n",
              "    </tr>\n",
              "    <tr>\n",
              "      <th>variation</th>\n",
              "      <th></th>\n",
              "      <th></th>\n",
              "      <th></th>\n",
              "      <th></th>\n",
              "      <th></th>\n",
              "      <th></th>\n",
              "      <th></th>\n",
              "      <th></th>\n",
              "      <th></th>\n",
              "      <th></th>\n",
              "      <th></th>\n",
              "      <th></th>\n",
              "      <th></th>\n",
              "      <th></th>\n",
              "      <th></th>\n",
              "      <th></th>\n",
              "    </tr>\n",
              "  </thead>\n",
              "  <tbody>\n",
              "    <tr>\n",
              "      <th>Black</th>\n",
              "      <td>261.0</td>\n",
              "      <td>4.233716</td>\n",
              "      <td>1.339838</td>\n",
              "      <td>1.0</td>\n",
              "      <td>4.0</td>\n",
              "      <td>5.0</td>\n",
              "      <td>5.0</td>\n",
              "      <td>5.0</td>\n",
              "      <td>261.0</td>\n",
              "      <td>0.865900</td>\n",
              "      <td>0.341414</td>\n",
              "      <td>0.0</td>\n",
              "      <td>1.0</td>\n",
              "      <td>1.0</td>\n",
              "      <td>1.0</td>\n",
              "      <td>1.0</td>\n",
              "    </tr>\n",
              "    <tr>\n",
              "      <th>Black  Dot</th>\n",
              "      <td>516.0</td>\n",
              "      <td>4.453488</td>\n",
              "      <td>1.027660</td>\n",
              "      <td>1.0</td>\n",
              "      <td>4.0</td>\n",
              "      <td>5.0</td>\n",
              "      <td>5.0</td>\n",
              "      <td>5.0</td>\n",
              "      <td>516.0</td>\n",
              "      <td>0.930233</td>\n",
              "      <td>0.255002</td>\n",
              "      <td>0.0</td>\n",
              "      <td>1.0</td>\n",
              "      <td>1.0</td>\n",
              "      <td>1.0</td>\n",
              "      <td>1.0</td>\n",
              "    </tr>\n",
              "    <tr>\n",
              "      <th>Black  Plus</th>\n",
              "      <td>270.0</td>\n",
              "      <td>4.370370</td>\n",
              "      <td>1.158391</td>\n",
              "      <td>1.0</td>\n",
              "      <td>4.0</td>\n",
              "      <td>5.0</td>\n",
              "      <td>5.0</td>\n",
              "      <td>5.0</td>\n",
              "      <td>270.0</td>\n",
              "      <td>0.896296</td>\n",
              "      <td>0.305442</td>\n",
              "      <td>0.0</td>\n",
              "      <td>1.0</td>\n",
              "      <td>1.0</td>\n",
              "      <td>1.0</td>\n",
              "      <td>1.0</td>\n",
              "    </tr>\n",
              "    <tr>\n",
              "      <th>Black  Show</th>\n",
              "      <td>265.0</td>\n",
              "      <td>4.490566</td>\n",
              "      <td>0.996635</td>\n",
              "      <td>1.0</td>\n",
              "      <td>4.0</td>\n",
              "      <td>5.0</td>\n",
              "      <td>5.0</td>\n",
              "      <td>5.0</td>\n",
              "      <td>265.0</td>\n",
              "      <td>0.932075</td>\n",
              "      <td>0.252092</td>\n",
              "      <td>0.0</td>\n",
              "      <td>1.0</td>\n",
              "      <td>1.0</td>\n",
              "      <td>1.0</td>\n",
              "      <td>1.0</td>\n",
              "    </tr>\n",
              "    <tr>\n",
              "      <th>Black  Spot</th>\n",
              "      <td>241.0</td>\n",
              "      <td>4.311203</td>\n",
              "      <td>1.247764</td>\n",
              "      <td>1.0</td>\n",
              "      <td>4.0</td>\n",
              "      <td>5.0</td>\n",
              "      <td>5.0</td>\n",
              "      <td>5.0</td>\n",
              "      <td>241.0</td>\n",
              "      <td>0.867220</td>\n",
              "      <td>0.340043</td>\n",
              "      <td>0.0</td>\n",
              "      <td>1.0</td>\n",
              "      <td>1.0</td>\n",
              "      <td>1.0</td>\n",
              "      <td>1.0</td>\n",
              "    </tr>\n",
              "    <tr>\n",
              "      <th>Charcoal Fabric</th>\n",
              "      <td>430.0</td>\n",
              "      <td>4.730233</td>\n",
              "      <td>0.683994</td>\n",
              "      <td>1.0</td>\n",
              "      <td>5.0</td>\n",
              "      <td>5.0</td>\n",
              "      <td>5.0</td>\n",
              "      <td>5.0</td>\n",
              "      <td>430.0</td>\n",
              "      <td>0.972093</td>\n",
              "      <td>0.164898</td>\n",
              "      <td>0.0</td>\n",
              "      <td>1.0</td>\n",
              "      <td>1.0</td>\n",
              "      <td>1.0</td>\n",
              "      <td>1.0</td>\n",
              "    </tr>\n",
              "    <tr>\n",
              "      <th>Configuration: Fire TV Stick</th>\n",
              "      <td>350.0</td>\n",
              "      <td>4.591429</td>\n",
              "      <td>0.990751</td>\n",
              "      <td>1.0</td>\n",
              "      <td>5.0</td>\n",
              "      <td>5.0</td>\n",
              "      <td>5.0</td>\n",
              "      <td>5.0</td>\n",
              "      <td>350.0</td>\n",
              "      <td>0.920000</td>\n",
              "      <td>0.271682</td>\n",
              "      <td>0.0</td>\n",
              "      <td>1.0</td>\n",
              "      <td>1.0</td>\n",
              "      <td>1.0</td>\n",
              "      <td>1.0</td>\n",
              "    </tr>\n",
              "    <tr>\n",
              "      <th>Heather Gray Fabric</th>\n",
              "      <td>157.0</td>\n",
              "      <td>4.694268</td>\n",
              "      <td>0.647108</td>\n",
              "      <td>2.0</td>\n",
              "      <td>5.0</td>\n",
              "      <td>5.0</td>\n",
              "      <td>5.0</td>\n",
              "      <td>5.0</td>\n",
              "      <td>157.0</td>\n",
              "      <td>0.987261</td>\n",
              "      <td>0.112504</td>\n",
              "      <td>0.0</td>\n",
              "      <td>1.0</td>\n",
              "      <td>1.0</td>\n",
              "      <td>1.0</td>\n",
              "      <td>1.0</td>\n",
              "    </tr>\n",
              "    <tr>\n",
              "      <th>Oak Finish</th>\n",
              "      <td>14.0</td>\n",
              "      <td>4.857143</td>\n",
              "      <td>0.363137</td>\n",
              "      <td>4.0</td>\n",
              "      <td>5.0</td>\n",
              "      <td>5.0</td>\n",
              "      <td>5.0</td>\n",
              "      <td>5.0</td>\n",
              "      <td>14.0</td>\n",
              "      <td>1.000000</td>\n",
              "      <td>0.000000</td>\n",
              "      <td>1.0</td>\n",
              "      <td>1.0</td>\n",
              "      <td>1.0</td>\n",
              "      <td>1.0</td>\n",
              "      <td>1.0</td>\n",
              "    </tr>\n",
              "    <tr>\n",
              "      <th>Sandstone Fabric</th>\n",
              "      <td>90.0</td>\n",
              "      <td>4.355556</td>\n",
              "      <td>0.997875</td>\n",
              "      <td>1.0</td>\n",
              "      <td>4.0</td>\n",
              "      <td>5.0</td>\n",
              "      <td>5.0</td>\n",
              "      <td>5.0</td>\n",
              "      <td>90.0</td>\n",
              "      <td>0.933333</td>\n",
              "      <td>0.250841</td>\n",
              "      <td>0.0</td>\n",
              "      <td>1.0</td>\n",
              "      <td>1.0</td>\n",
              "      <td>1.0</td>\n",
              "      <td>1.0</td>\n",
              "    </tr>\n",
              "    <tr>\n",
              "      <th>Walnut Finish</th>\n",
              "      <td>9.0</td>\n",
              "      <td>4.888889</td>\n",
              "      <td>0.333333</td>\n",
              "      <td>4.0</td>\n",
              "      <td>5.0</td>\n",
              "      <td>5.0</td>\n",
              "      <td>5.0</td>\n",
              "      <td>5.0</td>\n",
              "      <td>9.0</td>\n",
              "      <td>1.000000</td>\n",
              "      <td>0.000000</td>\n",
              "      <td>1.0</td>\n",
              "      <td>1.0</td>\n",
              "      <td>1.0</td>\n",
              "      <td>1.0</td>\n",
              "      <td>1.0</td>\n",
              "    </tr>\n",
              "    <tr>\n",
              "      <th>White</th>\n",
              "      <td>91.0</td>\n",
              "      <td>4.142857</td>\n",
              "      <td>1.464934</td>\n",
              "      <td>1.0</td>\n",
              "      <td>4.0</td>\n",
              "      <td>5.0</td>\n",
              "      <td>5.0</td>\n",
              "      <td>5.0</td>\n",
              "      <td>91.0</td>\n",
              "      <td>0.813187</td>\n",
              "      <td>0.391921</td>\n",
              "      <td>0.0</td>\n",
              "      <td>1.0</td>\n",
              "      <td>1.0</td>\n",
              "      <td>1.0</td>\n",
              "      <td>1.0</td>\n",
              "    </tr>\n",
              "    <tr>\n",
              "      <th>White  Dot</th>\n",
              "      <td>184.0</td>\n",
              "      <td>4.423913</td>\n",
              "      <td>1.047857</td>\n",
              "      <td>1.0</td>\n",
              "      <td>4.0</td>\n",
              "      <td>5.0</td>\n",
              "      <td>5.0</td>\n",
              "      <td>5.0</td>\n",
              "      <td>184.0</td>\n",
              "      <td>0.934783</td>\n",
              "      <td>0.247583</td>\n",
              "      <td>0.0</td>\n",
              "      <td>1.0</td>\n",
              "      <td>1.0</td>\n",
              "      <td>1.0</td>\n",
              "      <td>1.0</td>\n",
              "    </tr>\n",
              "    <tr>\n",
              "      <th>White  Plus</th>\n",
              "      <td>78.0</td>\n",
              "      <td>4.358974</td>\n",
              "      <td>1.184032</td>\n",
              "      <td>1.0</td>\n",
              "      <td>4.0</td>\n",
              "      <td>5.0</td>\n",
              "      <td>5.0</td>\n",
              "      <td>5.0</td>\n",
              "      <td>78.0</td>\n",
              "      <td>0.897436</td>\n",
              "      <td>0.305352</td>\n",
              "      <td>0.0</td>\n",
              "      <td>1.0</td>\n",
              "      <td>1.0</td>\n",
              "      <td>1.0</td>\n",
              "      <td>1.0</td>\n",
              "    </tr>\n",
              "    <tr>\n",
              "      <th>White  Show</th>\n",
              "      <td>85.0</td>\n",
              "      <td>4.282353</td>\n",
              "      <td>1.278129</td>\n",
              "      <td>1.0</td>\n",
              "      <td>4.0</td>\n",
              "      <td>5.0</td>\n",
              "      <td>5.0</td>\n",
              "      <td>5.0</td>\n",
              "      <td>85.0</td>\n",
              "      <td>0.870588</td>\n",
              "      <td>0.337647</td>\n",
              "      <td>0.0</td>\n",
              "      <td>1.0</td>\n",
              "      <td>1.0</td>\n",
              "      <td>1.0</td>\n",
              "      <td>1.0</td>\n",
              "    </tr>\n",
              "    <tr>\n",
              "      <th>White  Spot</th>\n",
              "      <td>109.0</td>\n",
              "      <td>4.311927</td>\n",
              "      <td>1.222454</td>\n",
              "      <td>1.0</td>\n",
              "      <td>4.0</td>\n",
              "      <td>5.0</td>\n",
              "      <td>5.0</td>\n",
              "      <td>5.0</td>\n",
              "      <td>109.0</td>\n",
              "      <td>0.889908</td>\n",
              "      <td>0.314450</td>\n",
              "      <td>0.0</td>\n",
              "      <td>1.0</td>\n",
              "      <td>1.0</td>\n",
              "      <td>1.0</td>\n",
              "      <td>1.0</td>\n",
              "    </tr>\n",
              "  </tbody>\n",
              "</table>\n",
              "</div>"
            ],
            "text/plain": [
              "                             rating                      ... feedback          \n",
              "                              count      mean       std  ...      50%  75%  max\n",
              "variation                                                ...                   \n",
              "Black                         261.0  4.233716  1.339838  ...      1.0  1.0  1.0\n",
              "Black  Dot                    516.0  4.453488  1.027660  ...      1.0  1.0  1.0\n",
              "Black  Plus                   270.0  4.370370  1.158391  ...      1.0  1.0  1.0\n",
              "Black  Show                   265.0  4.490566  0.996635  ...      1.0  1.0  1.0\n",
              "Black  Spot                   241.0  4.311203  1.247764  ...      1.0  1.0  1.0\n",
              "Charcoal Fabric               430.0  4.730233  0.683994  ...      1.0  1.0  1.0\n",
              "Configuration: Fire TV Stick  350.0  4.591429  0.990751  ...      1.0  1.0  1.0\n",
              "Heather Gray Fabric           157.0  4.694268  0.647108  ...      1.0  1.0  1.0\n",
              "Oak Finish                     14.0  4.857143  0.363137  ...      1.0  1.0  1.0\n",
              "Sandstone Fabric               90.0  4.355556  0.997875  ...      1.0  1.0  1.0\n",
              "Walnut Finish                   9.0  4.888889  0.333333  ...      1.0  1.0  1.0\n",
              "White                          91.0  4.142857  1.464934  ...      1.0  1.0  1.0\n",
              "White  Dot                    184.0  4.423913  1.047857  ...      1.0  1.0  1.0\n",
              "White  Plus                    78.0  4.358974  1.184032  ...      1.0  1.0  1.0\n",
              "White  Show                    85.0  4.282353  1.278129  ...      1.0  1.0  1.0\n",
              "White  Spot                   109.0  4.311927  1.222454  ...      1.0  1.0  1.0\n",
              "\n",
              "[16 rows x 16 columns]"
            ]
          },
          "metadata": {
            "tags": []
          },
          "execution_count": 13
        }
      ]
    },
    {
      "cell_type": "markdown",
      "metadata": {
        "id": "-tFd4GoQwGwl"
      },
      "source": [
        "# Rearraging data set based by rating\n"
      ]
    },
    {
      "cell_type": "code",
      "metadata": {
        "colab": {
          "base_uri": "https://localhost:8080/",
          "height": 285
        },
        "id": "BsKVd-lPwGwm",
        "outputId": "6092b1e9-e32e-4b9c-deba-f66fcf0bab75"
      },
      "source": [
        "rate_1 = data[data['rating']==1]\n",
        "rate_2 = data[data['rating']==2]\n",
        "rate_3 = data[data['rating']==3]\n",
        "rate_4 = data[data['rating']==4]\n",
        "rate_5 = data[data['rating']==5]\n",
        "data_rate = pd.concat([rate_1, rate_2, rate_3 , rate_4 , rate_5])\n",
        "data_rate.head()"
      ],
      "execution_count": null,
      "outputs": [
        {
          "output_type": "execute_result",
          "data": {
            "text/html": [
              "<div>\n",
              "<style scoped>\n",
              "    .dataframe tbody tr th:only-of-type {\n",
              "        vertical-align: middle;\n",
              "    }\n",
              "\n",
              "    .dataframe tbody tr th {\n",
              "        vertical-align: top;\n",
              "    }\n",
              "\n",
              "    .dataframe thead th {\n",
              "        text-align: right;\n",
              "    }\n",
              "</style>\n",
              "<table border=\"1\" class=\"dataframe\">\n",
              "  <thead>\n",
              "    <tr style=\"text-align: right;\">\n",
              "      <th></th>\n",
              "      <th>rating</th>\n",
              "      <th>date</th>\n",
              "      <th>variation</th>\n",
              "      <th>verified_reviews</th>\n",
              "      <th>feedback</th>\n",
              "    </tr>\n",
              "  </thead>\n",
              "  <tbody>\n",
              "    <tr>\n",
              "      <th>141</th>\n",
              "      <td>1</td>\n",
              "      <td>30-Jul-18</td>\n",
              "      <td>Charcoal Fabric</td>\n",
              "      <td>Not much features.</td>\n",
              "      <td>0</td>\n",
              "    </tr>\n",
              "    <tr>\n",
              "      <th>162</th>\n",
              "      <td>1</td>\n",
              "      <td>30-Jul-18</td>\n",
              "      <td>Sandstone Fabric</td>\n",
              "      <td>Stopped working after 2 weeks ,didn't follow c...</td>\n",
              "      <td>0</td>\n",
              "    </tr>\n",
              "    <tr>\n",
              "      <th>341</th>\n",
              "      <td>1</td>\n",
              "      <td>28-Jul-18</td>\n",
              "      <td>Charcoal Fabric</td>\n",
              "      <td>Alexa hardly came on..</td>\n",
              "      <td>0</td>\n",
              "    </tr>\n",
              "    <tr>\n",
              "      <th>350</th>\n",
              "      <td>1</td>\n",
              "      <td>31-Jul-18</td>\n",
              "      <td>Black</td>\n",
              "      <td>Item no longer works after just 5 months of us...</td>\n",
              "      <td>0</td>\n",
              "    </tr>\n",
              "    <tr>\n",
              "      <th>361</th>\n",
              "      <td>1</td>\n",
              "      <td>29-Jul-18</td>\n",
              "      <td>Black</td>\n",
              "      <td>This thing barely works. You have to select 3r...</td>\n",
              "      <td>0</td>\n",
              "    </tr>\n",
              "  </tbody>\n",
              "</table>\n",
              "</div>"
            ],
            "text/plain": [
              "     rating  ... feedback\n",
              "141       1  ...        0\n",
              "162       1  ...        0\n",
              "341       1  ...        0\n",
              "350       1  ...        0\n",
              "361       1  ...        0\n",
              "\n",
              "[5 rows x 5 columns]"
            ]
          },
          "metadata": {
            "tags": []
          },
          "execution_count": 14
        }
      ]
    },
    {
      "cell_type": "markdown",
      "metadata": {
        "id": "lPyFLUc0wGwm"
      },
      "source": [
        "# Variation and rating count plot"
      ]
    },
    {
      "cell_type": "code",
      "metadata": {
        "colab": {
          "base_uri": "https://localhost:8080/",
          "height": 284
        },
        "id": "CLvBxQN1wGwm",
        "outputId": "c0f26eb4-1dc1-46e4-c858-430fa90a14ff"
      },
      "source": [
        "ax = sns.countplot(x=\"rating\", data=data_rate)\n",
        "#rating count"
      ],
      "execution_count": null,
      "outputs": [
        {
          "output_type": "display_data",
          "data": {
            "image/png": "[encoded data removed]",
            "text/plain": [
              "<Figure size 432x288 with 1 Axes>"
            ]
          },
          "metadata": {
            "tags": []
          }
        }
      ]
    },
    {
      "cell_type": "code",
      "metadata": {
        "colab": {
          "base_uri": "https://localhost:8080/",
          "height": 460
        },
        "id": "Jo_1HNDNwGwm",
        "outputId": "3e837ffb-4778-4ff1-bafa-3758ad9ff33b"
      },
      "source": [
        "ax = sns.countplot(x=\"variation\", data=data_rate)\n",
        "plt.xticks(Rotation = 90)\n",
        "# Please rotate the axis here"
      ],
      "execution_count": null,
      "outputs": [
        {
          "output_type": "execute_result",
          "data": {
            "text/plain": [
              "(array([ 0,  1,  2,  3,  4,  5,  6,  7,  8,  9, 10, 11, 12, 13, 14, 15]),\n",
              " <a list of 16 Text major ticklabel objects>)"
            ]
          },
          "metadata": {
            "tags": []
          },
          "execution_count": 17
        },
        {
          "output_type": "display_data",
          "data": {
            "image/png": "[encoded data removed]",
            "text/plain": [
              "<Figure size 432x288 with 1 Axes>"
            ]
          },
          "metadata": {
            "tags": []
          }
        }
      ]
    },
    {
      "cell_type": "code",
      "metadata": {
        "colab": {
          "base_uri": "https://localhost:8080/",
          "height": 538
        },
        "id": "jhZ03rM73CnM",
        "outputId": "0bc70224-2df3-4f5d-f2b7-fc8c04dc7558"
      },
      "source": [
        "fig, ax = plt.subplots(figsize=(15,10))\n",
        "sns.histplot(data =data_rate, x = 'variation', hue ='rating', multiple=\"dodge\", shrink = 1)\n",
        "plt.xticks(Rotation = 90)\n",
        "plt.show()"
      ],
      "execution_count": null,
      "outputs": [
        {
          "output_type": "display_data",
          "data": {
            "image/png": "[encoded data removed]",
            "text/plain": [
              "<Figure size 1080x720 with 1 Axes>"
            ]
          },
          "metadata": {
            "tags": []
          }
        }
      ]
    },
    {
      "cell_type": "code",
      "metadata": {
        "colab": {
          "base_uri": "https://localhost:8080/",
          "height": 538
        },
        "id": "kaLNcgkl6MHt",
        "outputId": "10409285-275e-4b9e-e153-90d5b2d163bb"
      },
      "source": [
        "fig, ax = plt.subplots(figsize=(15,10))\n",
        "sns.histplot(ax=ax,data =data_rate, x = 'variation', hue ='feedback',multiple=\"dodge\", shrink = 1)\n",
        "plt.xticks(Rotation = 90)\n",
        "plt.show()"
      ],
      "execution_count": null,
      "outputs": [
        {
          "output_type": "display_data",
          "data": {
            "image/png": "[encoded data removed]",
            "text/plain": [
              "<Figure size 1080x720 with 1 Axes>"
            ]
          },
          "metadata": {
            "tags": [],
            "needs_background": "light"
          }
        }
      ]
    },
    {
      "cell_type": "markdown",
      "metadata": {
        "_uuid": "19401d03ebbb50fb9cda62895954bbeaf740f141",
        "id": "WdH77uNPwGwn"
      },
      "source": [
        "#Review Length analysis"
      ]
    },
    {
      "cell_type": "code",
      "metadata": {
        "_uuid": "0f64036bdce4131525819905e4631d1740c83840",
        "colab": {
          "base_uri": "https://localhost:8080/",
          "height": 285
        },
        "id": "XoeDH_HewGwn",
        "outputId": "6bd06190-5cc6-4520-8150-f7e28a6881a9"
      },
      "source": [
        "data_rate['len'] = data_rate['verified_reviews'].apply(len)\n",
        "data_rate.head()"
      ],
      "execution_count": null,
      "outputs": [
        {
          "output_type": "execute_result",
          "data": {
            "text/html": [
              "<div>\n",
              "<style scoped>\n",
              "    .dataframe tbody tr th:only-of-type {\n",
              "        vertical-align: middle;\n",
              "    }\n",
              "\n",
              "    .dataframe tbody tr th {\n",
              "        vertical-align: top;\n",
              "    }\n",
              "\n",
              "    .dataframe thead th {\n",
              "        text-align: right;\n",
              "    }\n",
              "</style>\n",
              "<table border=\"1\" class=\"dataframe\">\n",
              "  <thead>\n",
              "    <tr style=\"text-align: right;\">\n",
              "      <th></th>\n",
              "      <th>rating</th>\n",
              "      <th>date</th>\n",
              "      <th>variation</th>\n",
              "      <th>verified_reviews</th>\n",
              "      <th>feedback</th>\n",
              "      <th>len</th>\n",
              "    </tr>\n",
              "  </thead>\n",
              "  <tbody>\n",
              "    <tr>\n",
              "      <th>141</th>\n",
              "      <td>1</td>\n",
              "      <td>30-Jul-18</td>\n",
              "      <td>Charcoal Fabric</td>\n",
              "      <td>Not much features.</td>\n",
              "      <td>0</td>\n",
              "      <td>18</td>\n",
              "    </tr>\n",
              "    <tr>\n",
              "      <th>162</th>\n",
              "      <td>1</td>\n",
              "      <td>30-Jul-18</td>\n",
              "      <td>Sandstone Fabric</td>\n",
              "      <td>Stopped working after 2 weeks ,didn't follow c...</td>\n",
              "      <td>0</td>\n",
              "      <td>87</td>\n",
              "    </tr>\n",
              "    <tr>\n",
              "      <th>341</th>\n",
              "      <td>1</td>\n",
              "      <td>28-Jul-18</td>\n",
              "      <td>Charcoal Fabric</td>\n",
              "      <td>Alexa hardly came on..</td>\n",
              "      <td>0</td>\n",
              "      <td>22</td>\n",
              "    </tr>\n",
              "    <tr>\n",
              "      <th>350</th>\n",
              "      <td>1</td>\n",
              "      <td>31-Jul-18</td>\n",
              "      <td>Black</td>\n",
              "      <td>Item no longer works after just 5 months of us...</td>\n",
              "      <td>0</td>\n",
              "      <td>109</td>\n",
              "    </tr>\n",
              "    <tr>\n",
              "      <th>361</th>\n",
              "      <td>1</td>\n",
              "      <td>29-Jul-18</td>\n",
              "      <td>Black</td>\n",
              "      <td>This thing barely works. You have to select 3r...</td>\n",
              "      <td>0</td>\n",
              "      <td>154</td>\n",
              "    </tr>\n",
              "  </tbody>\n",
              "</table>\n",
              "</div>"
            ],
            "text/plain": [
              "     rating       date  ... feedback  len\n",
              "141       1  30-Jul-18  ...        0   18\n",
              "162       1  30-Jul-18  ...        0   87\n",
              "341       1  28-Jul-18  ...        0   22\n",
              "350       1  31-Jul-18  ...        0  109\n",
              "361       1  29-Jul-18  ...        0  154\n",
              "\n",
              "[5 rows x 6 columns]"
            ]
          },
          "metadata": {
            "tags": []
          },
          "execution_count": 20
        }
      ]
    },
    {
      "cell_type": "code",
      "metadata": {
        "colab": {
          "base_uri": "https://localhost:8080/"
        },
        "id": "bGsu8LGgwGwn",
        "outputId": "1e6eebac-9c5c-42d7-b875-3ab92528e64f"
      },
      "source": [
        "data_rate.len.describe()"
      ],
      "execution_count": null,
      "outputs": [
        {
          "output_type": "execute_result",
          "data": {
            "text/plain": [
              "count    3150.000000\n",
              "mean      132.049524\n",
              "std       182.099952\n",
              "min         1.000000\n",
              "25%        30.000000\n",
              "50%        74.000000\n",
              "75%       165.000000\n",
              "max      2851.000000\n",
              "Name: len, dtype: float64"
            ]
          },
          "metadata": {
            "tags": []
          },
          "execution_count": 21
        }
      ]
    },
    {
      "cell_type": "code",
      "metadata": {
        "colab": {
          "base_uri": "https://localhost:8080/",
          "height": 495
        },
        "id": "JGRJ3hzJwGwo",
        "outputId": "40bfda10-893f-4ee6-bae7-013e486b7072"
      },
      "source": [
        "data_rate.groupby('len').describe()"
      ],
      "execution_count": null,
      "outputs": [
        {
          "output_type": "execute_result",
          "data": {
            "text/html": [
              "<div>\n",
              "<style scoped>\n",
              "    .dataframe tbody tr th:only-of-type {\n",
              "        vertical-align: middle;\n",
              "    }\n",
              "\n",
              "    .dataframe tbody tr th {\n",
              "        vertical-align: top;\n",
              "    }\n",
              "\n",
              "    .dataframe thead tr th {\n",
              "        text-align: left;\n",
              "    }\n",
              "\n",
              "    .dataframe thead tr:last-of-type th {\n",
              "        text-align: right;\n",
              "    }\n",
              "</style>\n",
              "<table border=\"1\" class=\"dataframe\">\n",
              "  <thead>\n",
              "    <tr>\n",
              "      <th></th>\n",
              "      <th colspan=\"8\" halign=\"left\">rating</th>\n",
              "      <th colspan=\"8\" halign=\"left\">feedback</th>\n",
              "    </tr>\n",
              "    <tr>\n",
              "      <th></th>\n",
              "      <th>count</th>\n",
              "      <th>mean</th>\n",
              "      <th>std</th>\n",
              "      <th>min</th>\n",
              "      <th>25%</th>\n",
              "      <th>50%</th>\n",
              "      <th>75%</th>\n",
              "      <th>max</th>\n",
              "      <th>count</th>\n",
              "      <th>mean</th>\n",
              "      <th>std</th>\n",
              "      <th>min</th>\n",
              "      <th>25%</th>\n",
              "      <th>50%</th>\n",
              "      <th>75%</th>\n",
              "      <th>max</th>\n",
              "    </tr>\n",
              "    <tr>\n",
              "      <th>len</th>\n",
              "      <th></th>\n",
              "      <th></th>\n",
              "      <th></th>\n",
              "      <th></th>\n",
              "      <th></th>\n",
              "      <th></th>\n",
              "      <th></th>\n",
              "      <th></th>\n",
              "      <th></th>\n",
              "      <th></th>\n",
              "      <th></th>\n",
              "      <th></th>\n",
              "      <th></th>\n",
              "      <th></th>\n",
              "      <th></th>\n",
              "      <th></th>\n",
              "    </tr>\n",
              "  </thead>\n",
              "  <tbody>\n",
              "    <tr>\n",
              "      <th>1</th>\n",
              "      <td>81.0</td>\n",
              "      <td>3.716049</td>\n",
              "      <td>1.575076</td>\n",
              "      <td>1.0</td>\n",
              "      <td>3.0</td>\n",
              "      <td>5.0</td>\n",
              "      <td>5.0</td>\n",
              "      <td>5.0</td>\n",
              "      <td>81.0</td>\n",
              "      <td>0.765432</td>\n",
              "      <td>0.426369</td>\n",
              "      <td>0.0</td>\n",
              "      <td>1.0</td>\n",
              "      <td>1.0</td>\n",
              "      <td>1.0</td>\n",
              "      <td>1.0</td>\n",
              "    </tr>\n",
              "    <tr>\n",
              "      <th>2</th>\n",
              "      <td>4.0</td>\n",
              "      <td>5.000000</td>\n",
              "      <td>0.000000</td>\n",
              "      <td>5.0</td>\n",
              "      <td>5.0</td>\n",
              "      <td>5.0</td>\n",
              "      <td>5.0</td>\n",
              "      <td>5.0</td>\n",
              "      <td>4.0</td>\n",
              "      <td>1.000000</td>\n",
              "      <td>0.000000</td>\n",
              "      <td>1.0</td>\n",
              "      <td>1.0</td>\n",
              "      <td>1.0</td>\n",
              "      <td>1.0</td>\n",
              "      <td>1.0</td>\n",
              "    </tr>\n",
              "    <tr>\n",
              "      <th>3</th>\n",
              "      <td>3.0</td>\n",
              "      <td>4.000000</td>\n",
              "      <td>1.732051</td>\n",
              "      <td>2.0</td>\n",
              "      <td>3.5</td>\n",
              "      <td>5.0</td>\n",
              "      <td>5.0</td>\n",
              "      <td>5.0</td>\n",
              "      <td>3.0</td>\n",
              "      <td>0.666667</td>\n",
              "      <td>0.577350</td>\n",
              "      <td>0.0</td>\n",
              "      <td>0.5</td>\n",
              "      <td>1.0</td>\n",
              "      <td>1.0</td>\n",
              "      <td>1.0</td>\n",
              "    </tr>\n",
              "    <tr>\n",
              "      <th>4</th>\n",
              "      <td>15.0</td>\n",
              "      <td>4.600000</td>\n",
              "      <td>0.828079</td>\n",
              "      <td>2.0</td>\n",
              "      <td>4.5</td>\n",
              "      <td>5.0</td>\n",
              "      <td>5.0</td>\n",
              "      <td>5.0</td>\n",
              "      <td>15.0</td>\n",
              "      <td>0.933333</td>\n",
              "      <td>0.258199</td>\n",
              "      <td>0.0</td>\n",
              "      <td>1.0</td>\n",
              "      <td>1.0</td>\n",
              "      <td>1.0</td>\n",
              "      <td>1.0</td>\n",
              "    </tr>\n",
              "    <tr>\n",
              "      <th>5</th>\n",
              "      <td>17.0</td>\n",
              "      <td>4.823529</td>\n",
              "      <td>0.392953</td>\n",
              "      <td>4.0</td>\n",
              "      <td>5.0</td>\n",
              "      <td>5.0</td>\n",
              "      <td>5.0</td>\n",
              "      <td>5.0</td>\n",
              "      <td>17.0</td>\n",
              "      <td>1.000000</td>\n",
              "      <td>0.000000</td>\n",
              "      <td>1.0</td>\n",
              "      <td>1.0</td>\n",
              "      <td>1.0</td>\n",
              "      <td>1.0</td>\n",
              "      <td>1.0</td>\n",
              "    </tr>\n",
              "    <tr>\n",
              "      <th>...</th>\n",
              "      <td>...</td>\n",
              "      <td>...</td>\n",
              "      <td>...</td>\n",
              "      <td>...</td>\n",
              "      <td>...</td>\n",
              "      <td>...</td>\n",
              "      <td>...</td>\n",
              "      <td>...</td>\n",
              "      <td>...</td>\n",
              "      <td>...</td>\n",
              "      <td>...</td>\n",
              "      <td>...</td>\n",
              "      <td>...</td>\n",
              "      <td>...</td>\n",
              "      <td>...</td>\n",
              "      <td>...</td>\n",
              "    </tr>\n",
              "    <tr>\n",
              "      <th>1686</th>\n",
              "      <td>1.0</td>\n",
              "      <td>2.000000</td>\n",
              "      <td>NaN</td>\n",
              "      <td>2.0</td>\n",
              "      <td>2.0</td>\n",
              "      <td>2.0</td>\n",
              "      <td>2.0</td>\n",
              "      <td>2.0</td>\n",
              "      <td>1.0</td>\n",
              "      <td>0.000000</td>\n",
              "      <td>NaN</td>\n",
              "      <td>0.0</td>\n",
              "      <td>0.0</td>\n",
              "      <td>0.0</td>\n",
              "      <td>0.0</td>\n",
              "      <td>0.0</td>\n",
              "    </tr>\n",
              "    <tr>\n",
              "      <th>1833</th>\n",
              "      <td>1.0</td>\n",
              "      <td>3.000000</td>\n",
              "      <td>NaN</td>\n",
              "      <td>3.0</td>\n",
              "      <td>3.0</td>\n",
              "      <td>3.0</td>\n",
              "      <td>3.0</td>\n",
              "      <td>3.0</td>\n",
              "      <td>1.0</td>\n",
              "      <td>1.000000</td>\n",
              "      <td>NaN</td>\n",
              "      <td>1.0</td>\n",
              "      <td>1.0</td>\n",
              "      <td>1.0</td>\n",
              "      <td>1.0</td>\n",
              "      <td>1.0</td>\n",
              "    </tr>\n",
              "    <tr>\n",
              "      <th>1954</th>\n",
              "      <td>1.0</td>\n",
              "      <td>3.000000</td>\n",
              "      <td>NaN</td>\n",
              "      <td>3.0</td>\n",
              "      <td>3.0</td>\n",
              "      <td>3.0</td>\n",
              "      <td>3.0</td>\n",
              "      <td>3.0</td>\n",
              "      <td>1.0</td>\n",
              "      <td>1.000000</td>\n",
              "      <td>NaN</td>\n",
              "      <td>1.0</td>\n",
              "      <td>1.0</td>\n",
              "      <td>1.0</td>\n",
              "      <td>1.0</td>\n",
              "      <td>1.0</td>\n",
              "    </tr>\n",
              "    <tr>\n",
              "      <th>2393</th>\n",
              "      <td>1.0</td>\n",
              "      <td>5.000000</td>\n",
              "      <td>NaN</td>\n",
              "      <td>5.0</td>\n",
              "      <td>5.0</td>\n",
              "      <td>5.0</td>\n",
              "      <td>5.0</td>\n",
              "      <td>5.0</td>\n",
              "      <td>1.0</td>\n",
              "      <td>1.000000</td>\n",
              "      <td>NaN</td>\n",
              "      <td>1.0</td>\n",
              "      <td>1.0</td>\n",
              "      <td>1.0</td>\n",
              "      <td>1.0</td>\n",
              "      <td>1.0</td>\n",
              "    </tr>\n",
              "    <tr>\n",
              "      <th>2851</th>\n",
              "      <td>1.0</td>\n",
              "      <td>5.000000</td>\n",
              "      <td>NaN</td>\n",
              "      <td>5.0</td>\n",
              "      <td>5.0</td>\n",
              "      <td>5.0</td>\n",
              "      <td>5.0</td>\n",
              "      <td>5.0</td>\n",
              "      <td>1.0</td>\n",
              "      <td>1.000000</td>\n",
              "      <td>NaN</td>\n",
              "      <td>1.0</td>\n",
              "      <td>1.0</td>\n",
              "      <td>1.0</td>\n",
              "      <td>1.0</td>\n",
              "      <td>1.0</td>\n",
              "    </tr>\n",
              "  </tbody>\n",
              "</table>\n",
              "<p>490 rows × 16 columns</p>\n",
              "</div>"
            ],
            "text/plain": [
              "     rating                                ... feedback                    \n",
              "      count      mean       std  min  25%  ...      min  25%  50%  75%  max\n",
              "len                                        ...                             \n",
              "1      81.0  3.716049  1.575076  1.0  3.0  ...      0.0  1.0  1.0  1.0  1.0\n",
              "2       4.0  5.000000  0.000000  5.0  5.0  ...      1.0  1.0  1.0  1.0  1.0\n",
              "3       3.0  4.000000  1.732051  2.0  3.5  ...      0.0  0.5  1.0  1.0  1.0\n",
              "4      15.0  4.600000  0.828079  2.0  4.5  ...      0.0  1.0  1.0  1.0  1.0\n",
              "5      17.0  4.823529  0.392953  4.0  5.0  ...      1.0  1.0  1.0  1.0  1.0\n",
              "...     ...       ...       ...  ...  ...  ...      ...  ...  ...  ...  ...\n",
              "1686    1.0  2.000000       NaN  2.0  2.0  ...      0.0  0.0  0.0  0.0  0.0\n",
              "1833    1.0  3.000000       NaN  3.0  3.0  ...      1.0  1.0  1.0  1.0  1.0\n",
              "1954    1.0  3.000000       NaN  3.0  3.0  ...      1.0  1.0  1.0  1.0  1.0\n",
              "2393    1.0  5.000000       NaN  5.0  5.0  ...      1.0  1.0  1.0  1.0  1.0\n",
              "2851    1.0  5.000000       NaN  5.0  5.0  ...      1.0  1.0  1.0  1.0  1.0\n",
              "\n",
              "[490 rows x 16 columns]"
            ]
          },
          "metadata": {
            "tags": []
          },
          "execution_count": 22
        }
      ]
    },
    {
      "cell_type": "code",
      "metadata": {
        "colab": {
          "base_uri": "https://localhost:8080/",
          "height": 283
        },
        "id": "8VWCxi83FrTr",
        "outputId": "ab1f57ec-39bc-43e0-869b-5512fc88e976"
      },
      "source": [
        "data_rate.groupby('rating').describe()"
      ],
      "execution_count": null,
      "outputs": [
        {
          "output_type": "execute_result",
          "data": {
            "text/html": [
              "<div>\n",
              "<style scoped>\n",
              "    .dataframe tbody tr th:only-of-type {\n",
              "        vertical-align: middle;\n",
              "    }\n",
              "\n",
              "    .dataframe tbody tr th {\n",
              "        vertical-align: top;\n",
              "    }\n",
              "\n",
              "    .dataframe thead tr th {\n",
              "        text-align: left;\n",
              "    }\n",
              "\n",
              "    .dataframe thead tr:last-of-type th {\n",
              "        text-align: right;\n",
              "    }\n",
              "</style>\n",
              "<table border=\"1\" class=\"dataframe\">\n",
              "  <thead>\n",
              "    <tr>\n",
              "      <th></th>\n",
              "      <th colspan=\"8\" halign=\"left\">feedback</th>\n",
              "      <th colspan=\"8\" halign=\"left\">len</th>\n",
              "    </tr>\n",
              "    <tr>\n",
              "      <th></th>\n",
              "      <th>count</th>\n",
              "      <th>mean</th>\n",
              "      <th>std</th>\n",
              "      <th>min</th>\n",
              "      <th>25%</th>\n",
              "      <th>50%</th>\n",
              "      <th>75%</th>\n",
              "      <th>max</th>\n",
              "      <th>count</th>\n",
              "      <th>mean</th>\n",
              "      <th>std</th>\n",
              "      <th>min</th>\n",
              "      <th>25%</th>\n",
              "      <th>50%</th>\n",
              "      <th>75%</th>\n",
              "      <th>max</th>\n",
              "    </tr>\n",
              "    <tr>\n",
              "      <th>rating</th>\n",
              "      <th></th>\n",
              "      <th></th>\n",
              "      <th></th>\n",
              "      <th></th>\n",
              "      <th></th>\n",
              "      <th></th>\n",
              "      <th></th>\n",
              "      <th></th>\n",
              "      <th></th>\n",
              "      <th></th>\n",
              "      <th></th>\n",
              "      <th></th>\n",
              "      <th></th>\n",
              "      <th></th>\n",
              "      <th></th>\n",
              "      <th></th>\n",
              "    </tr>\n",
              "  </thead>\n",
              "  <tbody>\n",
              "    <tr>\n",
              "      <th>1</th>\n",
              "      <td>161.0</td>\n",
              "      <td>0.0</td>\n",
              "      <td>0.0</td>\n",
              "      <td>0.0</td>\n",
              "      <td>0.0</td>\n",
              "      <td>0.0</td>\n",
              "      <td>0.0</td>\n",
              "      <td>0.0</td>\n",
              "      <td>161.0</td>\n",
              "      <td>195.000000</td>\n",
              "      <td>212.371226</td>\n",
              "      <td>1.0</td>\n",
              "      <td>36.00</td>\n",
              "      <td>120.0</td>\n",
              "      <td>284.00</td>\n",
              "      <td>1124.0</td>\n",
              "    </tr>\n",
              "    <tr>\n",
              "      <th>2</th>\n",
              "      <td>96.0</td>\n",
              "      <td>0.0</td>\n",
              "      <td>0.0</td>\n",
              "      <td>0.0</td>\n",
              "      <td>0.0</td>\n",
              "      <td>0.0</td>\n",
              "      <td>0.0</td>\n",
              "      <td>0.0</td>\n",
              "      <td>96.0</td>\n",
              "      <td>249.187500</td>\n",
              "      <td>269.595303</td>\n",
              "      <td>1.0</td>\n",
              "      <td>78.75</td>\n",
              "      <td>163.0</td>\n",
              "      <td>309.25</td>\n",
              "      <td>1686.0</td>\n",
              "    </tr>\n",
              "    <tr>\n",
              "      <th>3</th>\n",
              "      <td>152.0</td>\n",
              "      <td>1.0</td>\n",
              "      <td>0.0</td>\n",
              "      <td>1.0</td>\n",
              "      <td>1.0</td>\n",
              "      <td>1.0</td>\n",
              "      <td>1.0</td>\n",
              "      <td>1.0</td>\n",
              "      <td>152.0</td>\n",
              "      <td>207.296053</td>\n",
              "      <td>272.194706</td>\n",
              "      <td>1.0</td>\n",
              "      <td>54.00</td>\n",
              "      <td>130.0</td>\n",
              "      <td>284.00</td>\n",
              "      <td>1954.0</td>\n",
              "    </tr>\n",
              "    <tr>\n",
              "      <th>4</th>\n",
              "      <td>455.0</td>\n",
              "      <td>1.0</td>\n",
              "      <td>0.0</td>\n",
              "      <td>1.0</td>\n",
              "      <td>1.0</td>\n",
              "      <td>1.0</td>\n",
              "      <td>1.0</td>\n",
              "      <td>1.0</td>\n",
              "      <td>455.0</td>\n",
              "      <td>178.520879</td>\n",
              "      <td>215.927849</td>\n",
              "      <td>1.0</td>\n",
              "      <td>34.00</td>\n",
              "      <td>99.0</td>\n",
              "      <td>241.00</td>\n",
              "      <td>1360.0</td>\n",
              "    </tr>\n",
              "    <tr>\n",
              "      <th>5</th>\n",
              "      <td>2286.0</td>\n",
              "      <td>1.0</td>\n",
              "      <td>0.0</td>\n",
              "      <td>1.0</td>\n",
              "      <td>1.0</td>\n",
              "      <td>1.0</td>\n",
              "      <td>1.0</td>\n",
              "      <td>1.0</td>\n",
              "      <td>2286.0</td>\n",
              "      <td>108.444007</td>\n",
              "      <td>152.116387</td>\n",
              "      <td>1.0</td>\n",
              "      <td>26.00</td>\n",
              "      <td>64.0</td>\n",
              "      <td>135.00</td>\n",
              "      <td>2851.0</td>\n",
              "    </tr>\n",
              "  </tbody>\n",
              "</table>\n",
              "</div>"
            ],
            "text/plain": [
              "       feedback                      ...  len                              \n",
              "          count mean  std  min  25%  ...  min    25%    50%     75%     max\n",
              "rating                               ...                                   \n",
              "1         161.0  0.0  0.0  0.0  0.0  ...  1.0  36.00  120.0  284.00  1124.0\n",
              "2          96.0  0.0  0.0  0.0  0.0  ...  1.0  78.75  163.0  309.25  1686.0\n",
              "3         152.0  1.0  0.0  1.0  1.0  ...  1.0  54.00  130.0  284.00  1954.0\n",
              "4         455.0  1.0  0.0  1.0  1.0  ...  1.0  34.00   99.0  241.00  1360.0\n",
              "5        2286.0  1.0  0.0  1.0  1.0  ...  1.0  26.00   64.0  135.00  2851.0\n",
              "\n",
              "[5 rows x 16 columns]"
            ]
          },
          "metadata": {
            "tags": []
          },
          "execution_count": 23
        }
      ]
    },
    {
      "cell_type": "code",
      "metadata": {
        "colab": {
          "base_uri": "https://localhost:8080/",
          "height": 687
        },
        "id": "lf1QEco_lQ2T",
        "outputId": "81c1cb6f-eadf-418d-9b60-900faeb61521"
      },
      "source": [
        "data_rate.groupby('variation').describe()"
      ],
      "execution_count": null,
      "outputs": [
        {
          "output_type": "execute_result",
          "data": {
            "text/html": [
              "<div>\n",
              "<style scoped>\n",
              "    .dataframe tbody tr th:only-of-type {\n",
              "        vertical-align: middle;\n",
              "    }\n",
              "\n",
              "    .dataframe tbody tr th {\n",
              "        vertical-align: top;\n",
              "    }\n",
              "\n",
              "    .dataframe thead tr th {\n",
              "        text-align: left;\n",
              "    }\n",
              "\n",
              "    .dataframe thead tr:last-of-type th {\n",
              "        text-align: right;\n",
              "    }\n",
              "</style>\n",
              "<table border=\"1\" class=\"dataframe\">\n",
              "  <thead>\n",
              "    <tr>\n",
              "      <th></th>\n",
              "      <th colspan=\"8\" halign=\"left\">rating</th>\n",
              "      <th colspan=\"8\" halign=\"left\">feedback</th>\n",
              "      <th colspan=\"8\" halign=\"left\">len</th>\n",
              "    </tr>\n",
              "    <tr>\n",
              "      <th></th>\n",
              "      <th>count</th>\n",
              "      <th>mean</th>\n",
              "      <th>std</th>\n",
              "      <th>min</th>\n",
              "      <th>25%</th>\n",
              "      <th>50%</th>\n",
              "      <th>75%</th>\n",
              "      <th>max</th>\n",
              "      <th>count</th>\n",
              "      <th>mean</th>\n",
              "      <th>std</th>\n",
              "      <th>min</th>\n",
              "      <th>25%</th>\n",
              "      <th>50%</th>\n",
              "      <th>75%</th>\n",
              "      <th>max</th>\n",
              "      <th>count</th>\n",
              "      <th>mean</th>\n",
              "      <th>std</th>\n",
              "      <th>min</th>\n",
              "      <th>25%</th>\n",
              "      <th>50%</th>\n",
              "      <th>75%</th>\n",
              "      <th>max</th>\n",
              "    </tr>\n",
              "    <tr>\n",
              "      <th>variation</th>\n",
              "      <th></th>\n",
              "      <th></th>\n",
              "      <th></th>\n",
              "      <th></th>\n",
              "      <th></th>\n",
              "      <th></th>\n",
              "      <th></th>\n",
              "      <th></th>\n",
              "      <th></th>\n",
              "      <th></th>\n",
              "      <th></th>\n",
              "      <th></th>\n",
              "      <th></th>\n",
              "      <th></th>\n",
              "      <th></th>\n",
              "      <th></th>\n",
              "      <th></th>\n",
              "      <th></th>\n",
              "      <th></th>\n",
              "      <th></th>\n",
              "      <th></th>\n",
              "      <th></th>\n",
              "      <th></th>\n",
              "      <th></th>\n",
              "    </tr>\n",
              "  </thead>\n",
              "  <tbody>\n",
              "    <tr>\n",
              "      <th>Black</th>\n",
              "      <td>261.0</td>\n",
              "      <td>4.233716</td>\n",
              "      <td>1.339838</td>\n",
              "      <td>1.0</td>\n",
              "      <td>4.0</td>\n",
              "      <td>5.0</td>\n",
              "      <td>5.0</td>\n",
              "      <td>5.0</td>\n",
              "      <td>261.0</td>\n",
              "      <td>0.865900</td>\n",
              "      <td>0.341414</td>\n",
              "      <td>0.0</td>\n",
              "      <td>1.0</td>\n",
              "      <td>1.0</td>\n",
              "      <td>1.0</td>\n",
              "      <td>1.0</td>\n",
              "      <td>261.0</td>\n",
              "      <td>114.773946</td>\n",
              "      <td>167.299014</td>\n",
              "      <td>1.0</td>\n",
              "      <td>25.00</td>\n",
              "      <td>69.0</td>\n",
              "      <td>138.00</td>\n",
              "      <td>1954.0</td>\n",
              "    </tr>\n",
              "    <tr>\n",
              "      <th>Black  Dot</th>\n",
              "      <td>516.0</td>\n",
              "      <td>4.453488</td>\n",
              "      <td>1.027660</td>\n",
              "      <td>1.0</td>\n",
              "      <td>4.0</td>\n",
              "      <td>5.0</td>\n",
              "      <td>5.0</td>\n",
              "      <td>5.0</td>\n",
              "      <td>516.0</td>\n",
              "      <td>0.930233</td>\n",
              "      <td>0.255002</td>\n",
              "      <td>0.0</td>\n",
              "      <td>1.0</td>\n",
              "      <td>1.0</td>\n",
              "      <td>1.0</td>\n",
              "      <td>1.0</td>\n",
              "      <td>516.0</td>\n",
              "      <td>113.920543</td>\n",
              "      <td>145.229913</td>\n",
              "      <td>1.0</td>\n",
              "      <td>27.00</td>\n",
              "      <td>58.0</td>\n",
              "      <td>135.00</td>\n",
              "      <td>772.0</td>\n",
              "    </tr>\n",
              "    <tr>\n",
              "      <th>Black  Plus</th>\n",
              "      <td>270.0</td>\n",
              "      <td>4.370370</td>\n",
              "      <td>1.158391</td>\n",
              "      <td>1.0</td>\n",
              "      <td>4.0</td>\n",
              "      <td>5.0</td>\n",
              "      <td>5.0</td>\n",
              "      <td>5.0</td>\n",
              "      <td>270.0</td>\n",
              "      <td>0.896296</td>\n",
              "      <td>0.305442</td>\n",
              "      <td>0.0</td>\n",
              "      <td>1.0</td>\n",
              "      <td>1.0</td>\n",
              "      <td>1.0</td>\n",
              "      <td>1.0</td>\n",
              "      <td>270.0</td>\n",
              "      <td>185.796296</td>\n",
              "      <td>292.129229</td>\n",
              "      <td>1.0</td>\n",
              "      <td>40.00</td>\n",
              "      <td>96.0</td>\n",
              "      <td>199.25</td>\n",
              "      <td>2851.0</td>\n",
              "    </tr>\n",
              "    <tr>\n",
              "      <th>Black  Show</th>\n",
              "      <td>265.0</td>\n",
              "      <td>4.490566</td>\n",
              "      <td>0.996635</td>\n",
              "      <td>1.0</td>\n",
              "      <td>4.0</td>\n",
              "      <td>5.0</td>\n",
              "      <td>5.0</td>\n",
              "      <td>5.0</td>\n",
              "      <td>265.0</td>\n",
              "      <td>0.932075</td>\n",
              "      <td>0.252092</td>\n",
              "      <td>0.0</td>\n",
              "      <td>1.0</td>\n",
              "      <td>1.0</td>\n",
              "      <td>1.0</td>\n",
              "      <td>1.0</td>\n",
              "      <td>265.0</td>\n",
              "      <td>146.203774</td>\n",
              "      <td>177.968066</td>\n",
              "      <td>1.0</td>\n",
              "      <td>32.00</td>\n",
              "      <td>86.0</td>\n",
              "      <td>198.00</td>\n",
              "      <td>1311.0</td>\n",
              "    </tr>\n",
              "    <tr>\n",
              "      <th>Black  Spot</th>\n",
              "      <td>241.0</td>\n",
              "      <td>4.311203</td>\n",
              "      <td>1.247764</td>\n",
              "      <td>1.0</td>\n",
              "      <td>4.0</td>\n",
              "      <td>5.0</td>\n",
              "      <td>5.0</td>\n",
              "      <td>5.0</td>\n",
              "      <td>241.0</td>\n",
              "      <td>0.867220</td>\n",
              "      <td>0.340043</td>\n",
              "      <td>0.0</td>\n",
              "      <td>1.0</td>\n",
              "      <td>1.0</td>\n",
              "      <td>1.0</td>\n",
              "      <td>1.0</td>\n",
              "      <td>241.0</td>\n",
              "      <td>186.041494</td>\n",
              "      <td>246.662924</td>\n",
              "      <td>1.0</td>\n",
              "      <td>43.00</td>\n",
              "      <td>117.0</td>\n",
              "      <td>244.00</td>\n",
              "      <td>2393.0</td>\n",
              "    </tr>\n",
              "    <tr>\n",
              "      <th>Charcoal Fabric</th>\n",
              "      <td>430.0</td>\n",
              "      <td>4.730233</td>\n",
              "      <td>0.683994</td>\n",
              "      <td>1.0</td>\n",
              "      <td>5.0</td>\n",
              "      <td>5.0</td>\n",
              "      <td>5.0</td>\n",
              "      <td>5.0</td>\n",
              "      <td>430.0</td>\n",
              "      <td>0.972093</td>\n",
              "      <td>0.164898</td>\n",
              "      <td>0.0</td>\n",
              "      <td>1.0</td>\n",
              "      <td>1.0</td>\n",
              "      <td>1.0</td>\n",
              "      <td>1.0</td>\n",
              "      <td>430.0</td>\n",
              "      <td>119.118605</td>\n",
              "      <td>143.545522</td>\n",
              "      <td>4.0</td>\n",
              "      <td>30.00</td>\n",
              "      <td>75.0</td>\n",
              "      <td>153.00</td>\n",
              "      <td>960.0</td>\n",
              "    </tr>\n",
              "    <tr>\n",
              "      <th>Configuration: Fire TV Stick</th>\n",
              "      <td>350.0</td>\n",
              "      <td>4.591429</td>\n",
              "      <td>0.990751</td>\n",
              "      <td>1.0</td>\n",
              "      <td>5.0</td>\n",
              "      <td>5.0</td>\n",
              "      <td>5.0</td>\n",
              "      <td>5.0</td>\n",
              "      <td>350.0</td>\n",
              "      <td>0.920000</td>\n",
              "      <td>0.271682</td>\n",
              "      <td>0.0</td>\n",
              "      <td>1.0</td>\n",
              "      <td>1.0</td>\n",
              "      <td>1.0</td>\n",
              "      <td>1.0</td>\n",
              "      <td>350.0</td>\n",
              "      <td>86.542857</td>\n",
              "      <td>117.635770</td>\n",
              "      <td>1.0</td>\n",
              "      <td>22.25</td>\n",
              "      <td>56.0</td>\n",
              "      <td>110.00</td>\n",
              "      <td>1564.0</td>\n",
              "    </tr>\n",
              "    <tr>\n",
              "      <th>Heather Gray Fabric</th>\n",
              "      <td>157.0</td>\n",
              "      <td>4.694268</td>\n",
              "      <td>0.647108</td>\n",
              "      <td>2.0</td>\n",
              "      <td>5.0</td>\n",
              "      <td>5.0</td>\n",
              "      <td>5.0</td>\n",
              "      <td>5.0</td>\n",
              "      <td>157.0</td>\n",
              "      <td>0.987261</td>\n",
              "      <td>0.112504</td>\n",
              "      <td>0.0</td>\n",
              "      <td>1.0</td>\n",
              "      <td>1.0</td>\n",
              "      <td>1.0</td>\n",
              "      <td>1.0</td>\n",
              "      <td>157.0</td>\n",
              "      <td>117.197452</td>\n",
              "      <td>155.782822</td>\n",
              "      <td>1.0</td>\n",
              "      <td>25.00</td>\n",
              "      <td>62.0</td>\n",
              "      <td>131.00</td>\n",
              "      <td>954.0</td>\n",
              "    </tr>\n",
              "    <tr>\n",
              "      <th>Oak Finish</th>\n",
              "      <td>14.0</td>\n",
              "      <td>4.857143</td>\n",
              "      <td>0.363137</td>\n",
              "      <td>4.0</td>\n",
              "      <td>5.0</td>\n",
              "      <td>5.0</td>\n",
              "      <td>5.0</td>\n",
              "      <td>5.0</td>\n",
              "      <td>14.0</td>\n",
              "      <td>1.000000</td>\n",
              "      <td>0.000000</td>\n",
              "      <td>1.0</td>\n",
              "      <td>1.0</td>\n",
              "      <td>1.0</td>\n",
              "      <td>1.0</td>\n",
              "      <td>1.0</td>\n",
              "      <td>14.0</td>\n",
              "      <td>103.714286</td>\n",
              "      <td>135.727911</td>\n",
              "      <td>12.0</td>\n",
              "      <td>15.00</td>\n",
              "      <td>24.0</td>\n",
              "      <td>226.75</td>\n",
              "      <td>329.0</td>\n",
              "    </tr>\n",
              "    <tr>\n",
              "      <th>Sandstone Fabric</th>\n",
              "      <td>90.0</td>\n",
              "      <td>4.355556</td>\n",
              "      <td>0.997875</td>\n",
              "      <td>1.0</td>\n",
              "      <td>4.0</td>\n",
              "      <td>5.0</td>\n",
              "      <td>5.0</td>\n",
              "      <td>5.0</td>\n",
              "      <td>90.0</td>\n",
              "      <td>0.933333</td>\n",
              "      <td>0.250841</td>\n",
              "      <td>0.0</td>\n",
              "      <td>1.0</td>\n",
              "      <td>1.0</td>\n",
              "      <td>1.0</td>\n",
              "      <td>1.0</td>\n",
              "      <td>90.0</td>\n",
              "      <td>137.355556</td>\n",
              "      <td>139.985739</td>\n",
              "      <td>1.0</td>\n",
              "      <td>44.00</td>\n",
              "      <td>87.0</td>\n",
              "      <td>174.00</td>\n",
              "      <td>665.0</td>\n",
              "    </tr>\n",
              "    <tr>\n",
              "      <th>Walnut Finish</th>\n",
              "      <td>9.0</td>\n",
              "      <td>4.888889</td>\n",
              "      <td>0.333333</td>\n",
              "      <td>4.0</td>\n",
              "      <td>5.0</td>\n",
              "      <td>5.0</td>\n",
              "      <td>5.0</td>\n",
              "      <td>5.0</td>\n",
              "      <td>9.0</td>\n",
              "      <td>1.000000</td>\n",
              "      <td>0.000000</td>\n",
              "      <td>1.0</td>\n",
              "      <td>1.0</td>\n",
              "      <td>1.0</td>\n",
              "      <td>1.0</td>\n",
              "      <td>1.0</td>\n",
              "      <td>9.0</td>\n",
              "      <td>137.666667</td>\n",
              "      <td>60.224580</td>\n",
              "      <td>62.0</td>\n",
              "      <td>106.00</td>\n",
              "      <td>138.0</td>\n",
              "      <td>195.00</td>\n",
              "      <td>216.0</td>\n",
              "    </tr>\n",
              "    <tr>\n",
              "      <th>White</th>\n",
              "      <td>91.0</td>\n",
              "      <td>4.142857</td>\n",
              "      <td>1.464934</td>\n",
              "      <td>1.0</td>\n",
              "      <td>4.0</td>\n",
              "      <td>5.0</td>\n",
              "      <td>5.0</td>\n",
              "      <td>5.0</td>\n",
              "      <td>91.0</td>\n",
              "      <td>0.813187</td>\n",
              "      <td>0.391921</td>\n",
              "      <td>0.0</td>\n",
              "      <td>1.0</td>\n",
              "      <td>1.0</td>\n",
              "      <td>1.0</td>\n",
              "      <td>1.0</td>\n",
              "      <td>91.0</td>\n",
              "      <td>115.252747</td>\n",
              "      <td>134.363735</td>\n",
              "      <td>1.0</td>\n",
              "      <td>27.50</td>\n",
              "      <td>66.0</td>\n",
              "      <td>153.50</td>\n",
              "      <td>630.0</td>\n",
              "    </tr>\n",
              "    <tr>\n",
              "      <th>White  Dot</th>\n",
              "      <td>184.0</td>\n",
              "      <td>4.423913</td>\n",
              "      <td>1.047857</td>\n",
              "      <td>1.0</td>\n",
              "      <td>4.0</td>\n",
              "      <td>5.0</td>\n",
              "      <td>5.0</td>\n",
              "      <td>5.0</td>\n",
              "      <td>184.0</td>\n",
              "      <td>0.934783</td>\n",
              "      <td>0.247583</td>\n",
              "      <td>0.0</td>\n",
              "      <td>1.0</td>\n",
              "      <td>1.0</td>\n",
              "      <td>1.0</td>\n",
              "      <td>1.0</td>\n",
              "      <td>184.0</td>\n",
              "      <td>94.913043</td>\n",
              "      <td>100.668221</td>\n",
              "      <td>1.0</td>\n",
              "      <td>28.00</td>\n",
              "      <td>67.5</td>\n",
              "      <td>109.75</td>\n",
              "      <td>557.0</td>\n",
              "    </tr>\n",
              "    <tr>\n",
              "      <th>White  Plus</th>\n",
              "      <td>78.0</td>\n",
              "      <td>4.358974</td>\n",
              "      <td>1.184032</td>\n",
              "      <td>1.0</td>\n",
              "      <td>4.0</td>\n",
              "      <td>5.0</td>\n",
              "      <td>5.0</td>\n",
              "      <td>5.0</td>\n",
              "      <td>78.0</td>\n",
              "      <td>0.897436</td>\n",
              "      <td>0.305352</td>\n",
              "      <td>0.0</td>\n",
              "      <td>1.0</td>\n",
              "      <td>1.0</td>\n",
              "      <td>1.0</td>\n",
              "      <td>1.0</td>\n",
              "      <td>78.0</td>\n",
              "      <td>199.089744</td>\n",
              "      <td>251.818590</td>\n",
              "      <td>1.0</td>\n",
              "      <td>53.00</td>\n",
              "      <td>98.0</td>\n",
              "      <td>210.25</td>\n",
              "      <td>1296.0</td>\n",
              "    </tr>\n",
              "    <tr>\n",
              "      <th>White  Show</th>\n",
              "      <td>85.0</td>\n",
              "      <td>4.282353</td>\n",
              "      <td>1.278129</td>\n",
              "      <td>1.0</td>\n",
              "      <td>4.0</td>\n",
              "      <td>5.0</td>\n",
              "      <td>5.0</td>\n",
              "      <td>5.0</td>\n",
              "      <td>85.0</td>\n",
              "      <td>0.870588</td>\n",
              "      <td>0.337647</td>\n",
              "      <td>0.0</td>\n",
              "      <td>1.0</td>\n",
              "      <td>1.0</td>\n",
              "      <td>1.0</td>\n",
              "      <td>1.0</td>\n",
              "      <td>85.0</td>\n",
              "      <td>152.388235</td>\n",
              "      <td>185.786686</td>\n",
              "      <td>1.0</td>\n",
              "      <td>46.00</td>\n",
              "      <td>93.0</td>\n",
              "      <td>201.00</td>\n",
              "      <td>978.0</td>\n",
              "    </tr>\n",
              "    <tr>\n",
              "      <th>White  Spot</th>\n",
              "      <td>109.0</td>\n",
              "      <td>4.311927</td>\n",
              "      <td>1.222454</td>\n",
              "      <td>1.0</td>\n",
              "      <td>4.0</td>\n",
              "      <td>5.0</td>\n",
              "      <td>5.0</td>\n",
              "      <td>5.0</td>\n",
              "      <td>109.0</td>\n",
              "      <td>0.889908</td>\n",
              "      <td>0.314450</td>\n",
              "      <td>0.0</td>\n",
              "      <td>1.0</td>\n",
              "      <td>1.0</td>\n",
              "      <td>1.0</td>\n",
              "      <td>1.0</td>\n",
              "      <td>109.0</td>\n",
              "      <td>202.513761</td>\n",
              "      <td>231.713010</td>\n",
              "      <td>1.0</td>\n",
              "      <td>35.00</td>\n",
              "      <td>126.0</td>\n",
              "      <td>256.00</td>\n",
              "      <td>1142.0</td>\n",
              "    </tr>\n",
              "  </tbody>\n",
              "</table>\n",
              "</div>"
            ],
            "text/plain": [
              "                             rating                      ...    len                \n",
              "                              count      mean       std  ...    50%     75%     max\n",
              "variation                                                ...                       \n",
              "Black                         261.0  4.233716  1.339838  ...   69.0  138.00  1954.0\n",
              "Black  Dot                    516.0  4.453488  1.027660  ...   58.0  135.00   772.0\n",
              "Black  Plus                   270.0  4.370370  1.158391  ...   96.0  199.25  2851.0\n",
              "Black  Show                   265.0  4.490566  0.996635  ...   86.0  198.00  1311.0\n",
              "Black  Spot                   241.0  4.311203  1.247764  ...  117.0  244.00  2393.0\n",
              "Charcoal Fabric               430.0  4.730233  0.683994  ...   75.0  153.00   960.0\n",
              "Configuration: Fire TV Stick  350.0  4.591429  0.990751  ...   56.0  110.00  1564.0\n",
              "Heather Gray Fabric           157.0  4.694268  0.647108  ...   62.0  131.00   954.0\n",
              "Oak Finish                     14.0  4.857143  0.363137  ...   24.0  226.75   329.0\n",
              "Sandstone Fabric               90.0  4.355556  0.997875  ...   87.0  174.00   665.0\n",
              "Walnut Finish                   9.0  4.888889  0.333333  ...  138.0  195.00   216.0\n",
              "White                          91.0  4.142857  1.464934  ...   66.0  153.50   630.0\n",
              "White  Dot                    184.0  4.423913  1.047857  ...   67.5  109.75   557.0\n",
              "White  Plus                    78.0  4.358974  1.184032  ...   98.0  210.25  1296.0\n",
              "White  Show                    85.0  4.282353  1.278129  ...   93.0  201.00   978.0\n",
              "White  Spot                   109.0  4.311927  1.222454  ...  126.0  256.00  1142.0\n",
              "\n",
              "[16 rows x 24 columns]"
            ]
          },
          "metadata": {
            "tags": []
          },
          "execution_count": 56
        }
      ]
    },
    {
      "cell_type": "code",
      "metadata": {
        "_uuid": "d8bd656ede119fb4bcedcbda51d0958fab415494",
        "id": "wAol287SwGwo"
      },
      "source": [
        "%matplotlib inline"
      ],
      "execution_count": null,
      "outputs": []
    },
    {
      "cell_type": "markdown",
      "metadata": {
        "id": "evcVaANUzrXE"
      },
      "source": [
        "# Length related Plots"
      ]
    },
    {
      "cell_type": "code",
      "metadata": {
        "colab": {
          "base_uri": "https://localhost:8080/",
          "height": 284
        },
        "id": "U2KadD3q7Tel",
        "outputId": "7619f74e-1635-4414-e461-67cbc4657cd4"
      },
      "source": [
        "ax = sns.countplot(x=data_rate['rating'],  data=data_rate)"
      ],
      "execution_count": null,
      "outputs": [
        {
          "output_type": "display_data",
          "data": {
            "image/png": "[encoded data removed]",
            "text/plain": [
              "<Figure size 432x288 with 1 Axes>"
            ]
          },
          "metadata": {
            "tags": [],
            "needs_background": "light"
          }
        }
      ]
    },
    {
      "cell_type": "code",
      "metadata": {
        "colab": {
          "base_uri": "https://localhost:8080/",
          "height": 628
        },
        "id": "kHS-xS9h0Ktg",
        "outputId": "7944018e-b8e4-49fd-96c5-e6a0187b3a25"
      },
      "source": [
        "fig, ax = plt.subplots(figsize=(15,10))\n",
        "sns.histplot(data = data_rate, x = 'len', hue ='feedback',multiple=\"dodge\", shrink = 1)\n",
        "plt.xticks(Rotation = 90)\n",
        "plt.show()"
      ],
      "execution_count": null,
      "outputs": [
        {
          "output_type": "display_data",
          "data": {
            "image/png": "[encoded data removed]",
            "text/plain": [
              "<Figure size 1080x720 with 1 Axes>"
            ]
          },
          "metadata": {
            "tags": [],
            "needs_background": "light"
          }
        }
      ]
    },
    {
      "cell_type": "code",
      "metadata": {
        "colab": {
          "base_uri": "https://localhost:8080/",
          "height": 751
        },
        "id": "KqHC_IwzpFn5",
        "outputId": "b95ccee4-e803-4500-de57-21f67404f809"
      },
      "source": [
        "fig, ax = plt.subplots(figsize=(15,10))\n",
        "\n",
        "sns.boxplot( x = 'variation', y = 'len', hue = 'feedback', data = data_rate, palette = \"Blues\")\n",
        "plt.xticks(Rotation = 90)\n",
        "plt.show()"
      ],
      "execution_count": null,
      "outputs": [
        {
          "output_type": "display_data",
          "data": {
            "image/png": "[encoded data removed]",
            "text/plain": [
              "<Figure size 1080x720 with 1 Axes>"
            ]
          },
          "metadata": {
            "tags": [],
            "needs_background": "light"
          }
        }
      ]
    },
    {
      "cell_type": "code",
      "metadata": {
        "colab": {
          "base_uri": "https://localhost:8080/",
          "height": 534
        },
        "id": "q1vQ6t2OpUWV",
        "outputId": "08454e3e-6bd9-46c6-a81f-5c00418e46b6"
      },
      "source": [
        "fig, ax = plt.subplots(figsize=(15,10))\n",
        "\n",
        "sns.boxplot( x = 'variation', y = 'len', hue = 'rating', data = data_rate)\n",
        "plt.xticks(Rotation = 90)\n",
        "plt.show()"
      ],
      "execution_count": null,
      "outputs": [
        {
          "output_type": "display_data",
          "data": {
            "image/png": "[encoded data removed]",
            "text/plain": [
              "<Figure size 1080x720 with 1 Axes>"
            ]
          },
          "metadata": {
            "tags": [],
            "needs_background": "light"
          }
        }
      ]
    },
    {
      "cell_type": "code",
      "metadata": {
        "id": "ht58g3D8BTCG",
        "colab": {
          "base_uri": "https://localhost:8080/",
          "height": 534
        },
        "outputId": "f0c8f990-02ed-4f1d-ca49-8b9e912dae80"
      },
      "source": [
        "fig, ax = plt.subplots(figsize=(15,10))\n",
        "\n",
        "sns.boxplot( x = 'variation', y = 'len', data = data_rate)\n",
        "plt.xticks(Rotation = 90)\n",
        "plt.show()"
      ],
      "execution_count": null,
      "outputs": [
        {
          "output_type": "display_data",
          "data": {
            "image/png": "[encoded data removed]",
            "text/plain": [
              "<Figure size 1080x720 with 1 Axes>"
            ]
          },
          "metadata": {
            "tags": [],
            "needs_background": "light"
          }
        }
      ]
    },
    {
      "cell_type": "code",
      "metadata": {
        "id": "DtVpL5JeIn9b",
        "colab": {
          "base_uri": "https://localhost:8080/",
          "height": 611
        },
        "outputId": "928b05a0-eb4b-418d-e981-3c311e8f73cb"
      },
      "source": [
        "fig, ax = plt.subplots(figsize=(15,10))\n",
        "sns.boxplot( x = 'feedback', y = 'len', data = data_rate)\n",
        "plt.xticks(Rotation = 0)\n",
        "plt.show()"
      ],
      "execution_count": null,
      "outputs": [
        {
          "output_type": "display_data",
          "data": {
            "image/png": "[encoded data removed]",
            "text/plain": [
              "<Figure size 1080x720 with 1 Axes>"
            ]
          },
          "metadata": {
            "tags": [],
            "needs_background": "light"
          }
        }
      ]
    },
    {
      "cell_type": "code",
      "metadata": {
        "id": "sNJKXv7HDrWY",
        "colab": {
          "base_uri": "https://localhost:8080/",
          "height": 611
        },
        "outputId": "87a80af9-397f-484f-dc36-240ac21b9e6e"
      },
      "source": [
        "fig, ax = plt.subplots(figsize=(15,10))\n",
        "sns.boxplot( x = 'rating', y = 'len', data = data_rate)\n",
        "plt.xticks(Rotation = 0)\n",
        "plt.show()"
      ],
      "execution_count": null,
      "outputs": [
        {
          "output_type": "display_data",
          "data": {
            "image/png": "[encoded data removed]",
            "text/plain": [
              "<Figure size 1080x720 with 1 Axes>"
            ]
          },
          "metadata": {
            "tags": [],
            "needs_background": "light"
          }
        }
      ]
    },
    {
      "cell_type": "markdown",
      "metadata": {
        "id": "MO-kbdXxwGwo"
      },
      "source": [
        "Bottom plot shows x-axis = word count in a review. Therefore, there re more low count reviews than high word."
      ]
    },
    {
      "cell_type": "markdown",
      "metadata": {
        "id": "4miitJjlwGwp"
      },
      "source": [
        "# Now let's see word count based on rating"
      ]
    },
    {
      "cell_type": "markdown",
      "metadata": {
        "id": "Xc40n9AVwGwp"
      },
      "source": [
        "What I want to plot is for graph titled \"rating = 1\" rating = 2....., x axis = length, y axis: count"
      ]
    },
    {
      "cell_type": "code",
      "metadata": {
        "scrolled": true,
        "colab": {
          "base_uri": "https://localhost:8080/",
          "height": 1000
        },
        "id": "vK4K0qsIwGwp",
        "outputId": "3e8fd63e-3b16-4505-f150-4d4266e4848d"
      },
      "source": [
        "data_rate.hist(column='len', by='rating', sharex = True, sharey = True, bins=50,figsize=(20  , 30))\n",
        "plt.show()\n"
      ],
      "execution_count": null,
      "outputs": [
        {
          "output_type": "display_data",
          "data": {
            "image/png": "[encoded data removed]",
            "text/plain": [
              "<Figure size 1440x2160 with 6 Axes>"
            ]
          },
          "metadata": {
            "tags": [],
            "needs_background": "light"
          }
        }
      ]
    },
    {
      "cell_type": "markdown",
      "metadata": {
        "id": "d9H9mXJ7DyF9"
      },
      "source": [
        "##Pre-processing of data\n",
        "\n",
        "\n"
      ]
    },
    {
      "cell_type": "code",
      "metadata": {
        "id": "OpcXc40FLx8e"
      },
      "source": [
        "def noise_removal(s):\n",
        "  #make into lower case\n",
        "  s = s.lower()\n",
        "  #remove html tags, punctuations\n",
        "  s = re.sub(r\"(@[A-Za-z0-9]+)|([^0-9A-Za-z \\t])|(\\w+:\\/\\/\\S+)|^rt|http.+?\", \"\", s)  \n",
        "  # remove numbers\n",
        "  s = re.sub(r\"\\d+\", \"\", s)\n",
        "   \n",
        "  return s"
      ],
      "execution_count": null,
      "outputs": []
    },
    {
      "cell_type": "code",
      "metadata": {
        "colab": {
          "base_uri": "https://localhost:8080/",
          "height": 391
        },
        "id": "DJbGxK2OOpXp",
        "outputId": "f2ea46a7-b95a-4680-b815-595f23b942ee"
      },
      "source": [
        "data_rate['review_clean'] = data_rate['verified_reviews'].apply(noise_removal)\n",
        "\n",
        "#remove stopwords\n",
        "import nltk.corpus\n",
        "nltk.download('stopwords')\n",
        "from nltk.corpus import stopwords\n",
        "stop = stopwords.words('english')\n",
        "#iterate through the list of stop words\n",
        "data_rate['review_clean'] = data_rate['review_clean'].apply(lambda x: ' '.join([word for word in x.split() if word not in (stop)]))\n",
        "\n",
        "data_rate[['verified_reviews','review_clean']].head(10)\n"
      ],
      "execution_count": null,
      "outputs": [
        {
          "output_type": "stream",
          "text": [
            "[nltk_data] Downloading package stopwords to /root/nltk_data...\n",
            "[nltk_data]   Unzipping corpora/stopwords.zip.\n"
          ],
          "name": "stdout"
        },
        {
          "output_type": "execute_result",
          "data": {
            "text/html": [
              "<div>\n",
              "<style scoped>\n",
              "    .dataframe tbody tr th:only-of-type {\n",
              "        vertical-align: middle;\n",
              "    }\n",
              "\n",
              "    .dataframe tbody tr th {\n",
              "        vertical-align: top;\n",
              "    }\n",
              "\n",
              "    .dataframe thead th {\n",
              "        text-align: right;\n",
              "    }\n",
              "</style>\n",
              "<table border=\"1\" class=\"dataframe\">\n",
              "  <thead>\n",
              "    <tr style=\"text-align: right;\">\n",
              "      <th></th>\n",
              "      <th>verified_reviews</th>\n",
              "      <th>review_clean</th>\n",
              "    </tr>\n",
              "  </thead>\n",
              "  <tbody>\n",
              "    <tr>\n",
              "      <th>141</th>\n",
              "      <td>Not much features.</td>\n",
              "      <td>much features</td>\n",
              "    </tr>\n",
              "    <tr>\n",
              "      <th>162</th>\n",
              "      <td>Stopped working after 2 weeks ,didn't follow c...</td>\n",
              "      <td>stopped working weeks didnt follow commands re...</td>\n",
              "    </tr>\n",
              "    <tr>\n",
              "      <th>341</th>\n",
              "      <td>Alexa hardly came on..</td>\n",
              "      <td>alexa hardly came</td>\n",
              "    </tr>\n",
              "    <tr>\n",
              "      <th>350</th>\n",
              "      <td>Item no longer works after just 5 months of us...</td>\n",
              "      <td>item longer works months use connect wifi unre...</td>\n",
              "    </tr>\n",
              "    <tr>\n",
              "      <th>361</th>\n",
              "      <td>This thing barely works. You have to select 3r...</td>\n",
              "      <td>thing barely works select rd party apps stuff ...</td>\n",
              "    </tr>\n",
              "    <tr>\n",
              "      <th>368</th>\n",
              "      <td>I returned 2 Echo Dots &amp; am only getting refun...</td>\n",
              "      <td>returned echo dots getting refund returned one...</td>\n",
              "    </tr>\n",
              "    <tr>\n",
              "      <th>369</th>\n",
              "      <td>not working</td>\n",
              "      <td>working</td>\n",
              "    </tr>\n",
              "    <tr>\n",
              "      <th>373</th>\n",
              "      <td>I'm an Echo fan but this one did not work</td>\n",
              "      <td>im echo fan one work</td>\n",
              "    </tr>\n",
              "    <tr>\n",
              "      <th>374</th>\n",
              "      <td></td>\n",
              "      <td></td>\n",
              "    </tr>\n",
              "    <tr>\n",
              "      <th>381</th>\n",
              "      <td>It worked for a month or so then it stopped. I...</td>\n",
              "      <td>worked month stopped ive tried everything try ...</td>\n",
              "    </tr>\n",
              "  </tbody>\n",
              "</table>\n",
              "</div>"
            ],
            "text/plain": [
              "                                      verified_reviews                                       review_clean\n",
              "141                                 Not much features.                                      much features\n",
              "162  Stopped working after 2 weeks ,didn't follow c...  stopped working weeks didnt follow commands re...\n",
              "341                             Alexa hardly came on..                                  alexa hardly came\n",
              "350  Item no longer works after just 5 months of us...  item longer works months use connect wifi unre...\n",
              "361  This thing barely works. You have to select 3r...  thing barely works select rd party apps stuff ...\n",
              "368  I returned 2 Echo Dots & am only getting refun...  returned echo dots getting refund returned one...\n",
              "369                                        not working                                            working\n",
              "373          I'm an Echo fan but this one did not work                               im echo fan one work\n",
              "374                                                                                                      \n",
              "381  It worked for a month or so then it stopped. I...  worked month stopped ive tried everything try ..."
            ]
          },
          "metadata": {
            "tags": []
          },
          "execution_count": 32
        }
      ]
    },
    {
      "cell_type": "code",
      "metadata": {
        "colab": {
          "base_uri": "https://localhost:8080/",
          "height": 391
        },
        "id": "32MdRVAyS1gm",
        "outputId": "742709fc-6896-42f6-db92-0c6fa7a3141c"
      },
      "source": [
        "#tokeinzation\n",
        "nltk.download('punkt')\n",
        "from nltk.tokenize import sent_tokenize, word_tokenize\n",
        "data_rate['review_token'] = data_rate['review_clean'].apply(lambda x: word_tokenize(x))\n",
        "data_rate[['verified_reviews','review_clean','review_token']].head(10)"
      ],
      "execution_count": null,
      "outputs": [
        {
          "output_type": "stream",
          "text": [
            "[nltk_data] Downloading package punkt to /root/nltk_data...\n",
            "[nltk_data]   Unzipping tokenizers/punkt.zip.\n"
          ],
          "name": "stdout"
        },
        {
          "output_type": "execute_result",
          "data": {
            "text/html": [
              "<div>\n",
              "<style scoped>\n",
              "    .dataframe tbody tr th:only-of-type {\n",
              "        vertical-align: middle;\n",
              "    }\n",
              "\n",
              "    .dataframe tbody tr th {\n",
              "        vertical-align: top;\n",
              "    }\n",
              "\n",
              "    .dataframe thead th {\n",
              "        text-align: right;\n",
              "    }\n",
              "</style>\n",
              "<table border=\"1\" class=\"dataframe\">\n",
              "  <thead>\n",
              "    <tr style=\"text-align: right;\">\n",
              "      <th></th>\n",
              "      <th>verified_reviews</th>\n",
              "      <th>review_clean</th>\n",
              "      <th>review_token</th>\n",
              "    </tr>\n",
              "  </thead>\n",
              "  <tbody>\n",
              "    <tr>\n",
              "      <th>141</th>\n",
              "      <td>Not much features.</td>\n",
              "      <td>much features</td>\n",
              "      <td>[much, features]</td>\n",
              "    </tr>\n",
              "    <tr>\n",
              "      <th>162</th>\n",
              "      <td>Stopped working after 2 weeks ,didn't follow c...</td>\n",
              "      <td>stopped working weeks didnt follow commands re...</td>\n",
              "      <td>[stopped, working, weeks, didnt, follow, comma...</td>\n",
              "    </tr>\n",
              "    <tr>\n",
              "      <th>341</th>\n",
              "      <td>Alexa hardly came on..</td>\n",
              "      <td>alexa hardly came</td>\n",
              "      <td>[alexa, hardly, came]</td>\n",
              "    </tr>\n",
              "    <tr>\n",
              "      <th>350</th>\n",
              "      <td>Item no longer works after just 5 months of us...</td>\n",
              "      <td>item longer works months use connect wifi unre...</td>\n",
              "      <td>[item, longer, works, months, use, connect, wi...</td>\n",
              "    </tr>\n",
              "    <tr>\n",
              "      <th>361</th>\n",
              "      <td>This thing barely works. You have to select 3r...</td>\n",
              "      <td>thing barely works select rd party apps stuff ...</td>\n",
              "      <td>[thing, barely, works, select, rd, party, apps...</td>\n",
              "    </tr>\n",
              "    <tr>\n",
              "      <th>368</th>\n",
              "      <td>I returned 2 Echo Dots &amp; am only getting refun...</td>\n",
              "      <td>returned echo dots getting refund returned one...</td>\n",
              "      <td>[returned, echo, dots, getting, refund, return...</td>\n",
              "    </tr>\n",
              "    <tr>\n",
              "      <th>369</th>\n",
              "      <td>not working</td>\n",
              "      <td>working</td>\n",
              "      <td>[working]</td>\n",
              "    </tr>\n",
              "    <tr>\n",
              "      <th>373</th>\n",
              "      <td>I'm an Echo fan but this one did not work</td>\n",
              "      <td>im echo fan one work</td>\n",
              "      <td>[im, echo, fan, one, work]</td>\n",
              "    </tr>\n",
              "    <tr>\n",
              "      <th>374</th>\n",
              "      <td></td>\n",
              "      <td></td>\n",
              "      <td>[]</td>\n",
              "    </tr>\n",
              "    <tr>\n",
              "      <th>381</th>\n",
              "      <td>It worked for a month or so then it stopped. I...</td>\n",
              "      <td>worked month stopped ive tried everything try ...</td>\n",
              "      <td>[worked, month, stopped, ive, tried, everythin...</td>\n",
              "    </tr>\n",
              "  </tbody>\n",
              "</table>\n",
              "</div>"
            ],
            "text/plain": [
              "                                      verified_reviews  ...                                       review_token\n",
              "141                                 Not much features.  ...                                   [much, features]\n",
              "162  Stopped working after 2 weeks ,didn't follow c...  ...  [stopped, working, weeks, didnt, follow, comma...\n",
              "341                             Alexa hardly came on..  ...                              [alexa, hardly, came]\n",
              "350  Item no longer works after just 5 months of us...  ...  [item, longer, works, months, use, connect, wi...\n",
              "361  This thing barely works. You have to select 3r...  ...  [thing, barely, works, select, rd, party, apps...\n",
              "368  I returned 2 Echo Dots & am only getting refun...  ...  [returned, echo, dots, getting, refund, return...\n",
              "369                                        not working  ...                                          [working]\n",
              "373          I'm an Echo fan but this one did not work  ...                         [im, echo, fan, one, work]\n",
              "374                                                     ...                                                 []\n",
              "381  It worked for a month or so then it stopped. I...  ...  [worked, month, stopped, ive, tried, everythin...\n",
              "\n",
              "[10 rows x 3 columns]"
            ]
          },
          "metadata": {
            "tags": []
          },
          "execution_count": 33
        }
      ]
    },
    {
      "cell_type": "code",
      "metadata": {
        "id": "kL-T3YghTWUb"
      },
      "source": [
        "from nltk.stem import WordNetLemmatizer\n",
        "lemmatizer = WordNetLemmatizer() \n",
        "def word_lemmatizer(s):\n",
        "    tokens = s\n",
        "    new_string = []\n",
        "    for word in tokens:\n",
        "        lemma = lemmatizer.lemmatize(word, pos=\"v\")\n",
        "        # exclude if lenght of lemma is smaller than 2\n",
        "        if len(lemma) > 2:\n",
        "            new_string.append(lemma)\n",
        "    \n",
        "    s = ' '.join(new_string)\n",
        "    return s.strip()\n"
      ],
      "execution_count": null,
      "outputs": []
    },
    {
      "cell_type": "code",
      "metadata": {
        "colab": {
          "base_uri": "https://localhost:8080/",
          "height": 574
        },
        "id": "RXAquMyYaiV-",
        "outputId": "c708ff62-9a0b-40e9-bbcc-a608ea1a890d"
      },
      "source": [
        "nltk.download('wordnet')\n",
        "# data_rate['review_lemma'] = data_rate['review_token'].apply(lambda x: word_lemmatizer(x))\n",
        "data_rate['review_lemma'] = data_rate['review_token'].apply(word_lemmatizer)\n",
        "\n",
        "data_rate[['verified_reviews','review_clean', 'review_token', 'review_lemma']].head(10)"
      ],
      "execution_count": null,
      "outputs": [
        {
          "output_type": "stream",
          "text": [
            "[nltk_data] Downloading package wordnet to /root/nltk_data...\n",
            "[nltk_data]   Unzipping corpora/wordnet.zip.\n"
          ],
          "name": "stdout"
        },
        {
          "output_type": "execute_result",
          "data": {
            "text/html": [
              "<div>\n",
              "<style scoped>\n",
              "    .dataframe tbody tr th:only-of-type {\n",
              "        vertical-align: middle;\n",
              "    }\n",
              "\n",
              "    .dataframe tbody tr th {\n",
              "        vertical-align: top;\n",
              "    }\n",
              "\n",
              "    .dataframe thead th {\n",
              "        text-align: right;\n",
              "    }\n",
              "</style>\n",
              "<table border=\"1\" class=\"dataframe\">\n",
              "  <thead>\n",
              "    <tr style=\"text-align: right;\">\n",
              "      <th></th>\n",
              "      <th>verified_reviews</th>\n",
              "      <th>review_clean</th>\n",
              "      <th>review_token</th>\n",
              "      <th>review_lemma</th>\n",
              "    </tr>\n",
              "  </thead>\n",
              "  <tbody>\n",
              "    <tr>\n",
              "      <th>141</th>\n",
              "      <td>Not much features.</td>\n",
              "      <td>much features</td>\n",
              "      <td>[much, features]</td>\n",
              "      <td>much feature</td>\n",
              "    </tr>\n",
              "    <tr>\n",
              "      <th>162</th>\n",
              "      <td>Stopped working after 2 weeks ,didn't follow c...</td>\n",
              "      <td>stopped working weeks didnt follow commands re...</td>\n",
              "      <td>[stopped, working, weeks, didnt, follow, comma...</td>\n",
              "      <td>stop work weeks didnt follow command really fu...</td>\n",
              "    </tr>\n",
              "    <tr>\n",
              "      <th>341</th>\n",
              "      <td>Alexa hardly came on..</td>\n",
              "      <td>alexa hardly came</td>\n",
              "      <td>[alexa, hardly, came]</td>\n",
              "      <td>alexa hardly come</td>\n",
              "    </tr>\n",
              "    <tr>\n",
              "      <th>350</th>\n",
              "      <td>Item no longer works after just 5 months of us...</td>\n",
              "      <td>item longer works months use connect wifi unre...</td>\n",
              "      <td>[item, longer, works, months, use, connect, wi...</td>\n",
              "      <td>item longer work months use connect wifi unres...</td>\n",
              "    </tr>\n",
              "    <tr>\n",
              "      <th>361</th>\n",
              "      <td>This thing barely works. You have to select 3r...</td>\n",
              "      <td>thing barely works select rd party apps stuff ...</td>\n",
              "      <td>[thing, barely, works, select, rd, party, apps...</td>\n",
              "      <td>thing barely work select party apps stuff youd...</td>\n",
              "    </tr>\n",
              "    <tr>\n",
              "      <th>368</th>\n",
              "      <td>I returned 2 Echo Dots &amp; am only getting refun...</td>\n",
              "      <td>returned echo dots getting refund returned one...</td>\n",
              "      <td>[returned, echo, dots, getting, refund, return...</td>\n",
              "      <td>return echo dot get refund return one package ...</td>\n",
              "    </tr>\n",
              "    <tr>\n",
              "      <th>369</th>\n",
              "      <td>not working</td>\n",
              "      <td>working</td>\n",
              "      <td>[working]</td>\n",
              "      <td>work</td>\n",
              "    </tr>\n",
              "    <tr>\n",
              "      <th>373</th>\n",
              "      <td>I'm an Echo fan but this one did not work</td>\n",
              "      <td>im echo fan one work</td>\n",
              "      <td>[im, echo, fan, one, work]</td>\n",
              "      <td>echo fan one work</td>\n",
              "    </tr>\n",
              "    <tr>\n",
              "      <th>374</th>\n",
              "      <td></td>\n",
              "      <td></td>\n",
              "      <td>[]</td>\n",
              "      <td></td>\n",
              "    </tr>\n",
              "    <tr>\n",
              "      <th>381</th>\n",
              "      <td>It worked for a month or so then it stopped. I...</td>\n",
              "      <td>worked month stopped ive tried everything try ...</td>\n",
              "      <td>[worked, month, stopped, ive, tried, everythin...</td>\n",
              "      <td>work month stop ive try everything try make wo...</td>\n",
              "    </tr>\n",
              "  </tbody>\n",
              "</table>\n",
              "</div>"
            ],
            "text/plain": [
              "                                      verified_reviews  ...                                       review_lemma\n",
              "141                                 Not much features.  ...                                       much feature\n",
              "162  Stopped working after 2 weeks ,didn't follow c...  ...  stop work weeks didnt follow command really fu...\n",
              "341                             Alexa hardly came on..  ...                                  alexa hardly come\n",
              "350  Item no longer works after just 5 months of us...  ...  item longer work months use connect wifi unres...\n",
              "361  This thing barely works. You have to select 3r...  ...  thing barely work select party apps stuff youd...\n",
              "368  I returned 2 Echo Dots & am only getting refun...  ...  return echo dot get refund return one package ...\n",
              "369                                        not working  ...                                               work\n",
              "373          I'm an Echo fan but this one did not work  ...                                  echo fan one work\n",
              "374                                                     ...                                                   \n",
              "381  It worked for a month or so then it stopped. I...  ...  work month stop ive try everything try make wo...\n",
              "\n",
              "[10 rows x 4 columns]"
            ]
          },
          "metadata": {
            "tags": []
          },
          "execution_count": 35
        }
      ]
    },
    {
      "cell_type": "markdown",
      "metadata": {
        "id": "11Lll45VGbkm"
      },
      "source": [
        "##Splitting into test set and training set"
      ]
    },
    {
      "cell_type": "markdown",
      "metadata": {
        "id": "Y052XQTgvYXM"
      },
      "source": [
        "CREATING TRAINING SET AND TEST SET"
      ]
    },
    {
      "cell_type": "code",
      "metadata": {
        "id": "3Rxcq6wzu_Sf"
      },
      "source": [
        "pos_train = data_rate[data_rate['feedback']==1][['review_lemma', 'feedback']].head(2025)\n",
        "neg_train = data_rate[data_rate['feedback']==0][['review_lemma', 'feedback']].head(180)\n",
        "\n",
        "pos_test = data_rate[data_rate['feedback']==1][['review_lemma', 'feedback']].tail(868)\n",
        "neg_test = data_rate[data_rate['feedback']==0][['review_lemma', 'feedback']].tail(77)"
      ],
      "execution_count": null,
      "outputs": []
    },
    {
      "cell_type": "code",
      "metadata": {
        "id": "xA4sdfVQwEjv"
      },
      "source": [
        "\n",
        "train_df = pd.concat([pos_train, neg_train]).sample(frac = 1).reset_index(drop=True)\n",
        "test_df = pd.concat([pos_test, neg_test]).sample(frac = 1).reset_index(drop=True)"
      ],
      "execution_count": null,
      "outputs": []
    },
    {
      "cell_type": "code",
      "metadata": {
        "colab": {
          "base_uri": "https://localhost:8080/",
          "height": 202
        },
        "id": "xzWz3W2bwQzO",
        "outputId": "7fa259e2-1233-4990-89e5-ab3e9ad3f405"
      },
      "source": [
        "train_df.head()"
      ],
      "execution_count": null,
      "outputs": [
        {
          "output_type": "execute_result",
          "data": {
            "text/html": [
              "<div>\n",
              "<style scoped>\n",
              "    .dataframe tbody tr th:only-of-type {\n",
              "        vertical-align: middle;\n",
              "    }\n",
              "\n",
              "    .dataframe tbody tr th {\n",
              "        vertical-align: top;\n",
              "    }\n",
              "\n",
              "    .dataframe thead th {\n",
              "        text-align: right;\n",
              "    }\n",
              "</style>\n",
              "<table border=\"1\" class=\"dataframe\">\n",
              "  <thead>\n",
              "    <tr style=\"text-align: right;\">\n",
              "      <th></th>\n",
              "      <th>review_lemma</th>\n",
              "      <th>feedback</th>\n",
              "    </tr>\n",
              "  </thead>\n",
              "  <tbody>\n",
              "    <tr>\n",
              "      <th>0</th>\n",
              "      <td>excellent purchase echo plus sound quality goo...</td>\n",
              "      <td>1</td>\n",
              "    </tr>\n",
              "    <tr>\n",
              "      <th>1</th>\n",
              "      <td>love look good</td>\n",
              "      <td>1</td>\n",
              "    </tr>\n",
              "    <tr>\n",
              "      <th>2</th>\n",
              "      <td>love kitchen watch prime video cook</td>\n",
              "      <td>1</td>\n",
              "    </tr>\n",
              "    <tr>\n",
              "      <th>3</th>\n",
              "      <td>get good deal work great prime setup bite pain...</td>\n",
              "      <td>1</td>\n",
              "    </tr>\n",
              "    <tr>\n",
              "      <th>4</th>\n",
              "      <td>contact people india suppose charge hard under...</td>\n",
              "      <td>1</td>\n",
              "    </tr>\n",
              "  </tbody>\n",
              "</table>\n",
              "</div>"
            ],
            "text/plain": [
              "                                        review_lemma  feedback\n",
              "0  excellent purchase echo plus sound quality goo...         1\n",
              "1                                     love look good         1\n",
              "2                love kitchen watch prime video cook         1\n",
              "3  get good deal work great prime setup bite pain...         1\n",
              "4  contact people india suppose charge hard under...         1"
            ]
          },
          "metadata": {
            "tags": []
          },
          "execution_count": 40
        }
      ]
    },
    {
      "cell_type": "code",
      "metadata": {
        "colab": {
          "base_uri": "https://localhost:8080/",
          "height": 202
        },
        "id": "-BFY9273wVO4",
        "outputId": "d7f935f0-9b16-4bc3-9c35-d8be2371f1c8"
      },
      "source": [
        "test_df.head()"
      ],
      "execution_count": null,
      "outputs": [
        {
          "output_type": "execute_result",
          "data": {
            "text/html": [
              "<div>\n",
              "<style scoped>\n",
              "    .dataframe tbody tr th:only-of-type {\n",
              "        vertical-align: middle;\n",
              "    }\n",
              "\n",
              "    .dataframe tbody tr th {\n",
              "        vertical-align: top;\n",
              "    }\n",
              "\n",
              "    .dataframe thead th {\n",
              "        text-align: right;\n",
              "    }\n",
              "</style>\n",
              "<table border=\"1\" class=\"dataframe\">\n",
              "  <thead>\n",
              "    <tr style=\"text-align: right;\">\n",
              "      <th></th>\n",
              "      <th>review_lemma</th>\n",
              "      <th>feedback</th>\n",
              "    </tr>\n",
              "  </thead>\n",
              "  <tbody>\n",
              "    <tr>\n",
              "      <th>0</th>\n",
              "      <td>use product music great</td>\n",
              "      <td>1</td>\n",
              "    </tr>\n",
              "    <tr>\n",
              "      <th>1</th>\n",
              "      <td>easy use nonstop music</td>\n",
              "      <td>1</td>\n",
              "    </tr>\n",
              "    <tr>\n",
              "      <th>2</th>\n",
              "      <td>great love</td>\n",
              "      <td>1</td>\n",
              "    </tr>\n",
              "    <tr>\n",
              "      <th>3</th>\n",
              "      <td>talk play type music want listen even turn ask</td>\n",
              "      <td>1</td>\n",
              "    </tr>\n",
              "    <tr>\n",
              "      <th>4</th>\n",
              "      <td>fire stick alexa happy first one love use many...</td>\n",
              "      <td>1</td>\n",
              "    </tr>\n",
              "  </tbody>\n",
              "</table>\n",
              "</div>"
            ],
            "text/plain": [
              "                                        review_lemma  feedback\n",
              "0                            use product music great         1\n",
              "1                             easy use nonstop music         1\n",
              "2                                         great love         1\n",
              "3     talk play type music want listen even turn ask         1\n",
              "4  fire stick alexa happy first one love use many...         1"
            ]
          },
          "metadata": {
            "tags": []
          },
          "execution_count": 41
        }
      ]
    },
    {
      "cell_type": "code",
      "metadata": {
        "id": "PUrzRHO6wcGe"
      },
      "source": [
        "X_train = train_df['review_lemma']\n",
        "X_test  = test_df['review_lemma']\n",
        "y_train = train_df['feedback']\n",
        "y_test  = test_df['feedback']"
      ],
      "execution_count": null,
      "outputs": []
    },
    {
      "cell_type": "markdown",
      "metadata": {
        "id": "XDomrO9Rwh78"
      },
      "source": [
        "## Creating Bag of Words\n"
      ]
    },
    {
      "cell_type": "code",
      "metadata": {
        "colab": {
          "base_uri": "https://localhost:8080/"
        },
        "id": "QtK3CABswgDC",
        "outputId": "0c5f7341-739f-4de5-9859-fb42a8dc5b02"
      },
      "source": [
        "from sklearn.feature_extraction.text import CountVectorizer\n",
        "#Creating instance of CountVectorizer\n",
        "vectorizer = CountVectorizer(binary=True)\n",
        "#creating vocabulary of words\n",
        "vectorizer.fit(X_train)\n",
        "#print((sorted(vectorizer.vocabulary_)))\n",
        "\n",
        "#Vectorisation\n",
        "X_train_onehot = vectorizer.transform(X_train)\n",
        "X_test_onehot = vectorizer.transform(X_test)\n",
        "\n",
        "#print shape post encoding \n",
        "print(X_train_onehot.shape)\n",
        "print(X_test_onehot.shape)\n"
      ],
      "execution_count": null,
      "outputs": [
        {
          "output_type": "stream",
          "text": [
            "(2205, 2913)\n",
            "(945, 2913)\n"
          ],
          "name": "stdout"
        }
      ]
    },
    {
      "cell_type": "markdown",
      "metadata": {
        "id": "IuOctUp6FepN"
      },
      "source": [
        "## Applying the classifier -Logistic Regression"
      ]
    },
    {
      "cell_type": "code",
      "metadata": {
        "colab": {
          "base_uri": "https://localhost:8080/"
        },
        "id": "mSp-ghCJxKGU",
        "outputId": "a08147d7-2efe-4b93-b2b4-8f74377ecfe6"
      },
      "source": [
        "#Logistic Regression\n",
        "from sklearn.linear_model import LogisticRegression\n",
        "\n",
        "logistic = LogisticRegression(max_iter=10000)\n",
        "#fitting the values for x and y\n",
        "logistic.fit(X_train_onehot,y_train)"
      ],
      "execution_count": null,
      "outputs": [
        {
          "output_type": "execute_result",
          "data": {
            "text/plain": [
              "LogisticRegression(C=1.0, class_weight=None, dual=False, fit_intercept=True,\n",
              "                   intercept_scaling=1, l1_ratio=None, max_iter=10000,\n",
              "                   multi_class='auto', n_jobs=None, penalty='l2',\n",
              "                   random_state=None, solver='lbfgs', tol=0.0001, verbose=0,\n",
              "                   warm_start=False)"
            ]
          },
          "metadata": {
            "tags": []
          },
          "execution_count": 93
        }
      ]
    },
    {
      "cell_type": "code",
      "metadata": {
        "id": "RQEgwT0PxHxt"
      },
      "source": [
        "#predictions from test data\n",
        "prediction = logistic.predict(X_test_onehot)"
      ],
      "execution_count": null,
      "outputs": []
    },
    {
      "cell_type": "markdown",
      "metadata": {
        "id": "8GcAAE9sFphj"
      },
      "source": [
        "##Creating confusion matrix and calculating performance matrix"
      ]
    },
    {
      "cell_type": "code",
      "metadata": {
        "colab": {
          "base_uri": "https://localhost:8080/",
          "height": 302
        },
        "id": "59nb_iLsxv8D",
        "outputId": "ce8ddd51-97a6-45ef-d473-43e33d8bbc5c"
      },
      "source": [
        "###### confusion matrix  starts ######\n",
        "from sklearn.metrics import accuracy_score, confusion_matrix, precision_score, recall_score, f1_score, classification_report\n",
        "matrix = confusion_matrix(y_test,prediction) \n",
        "names = np.unique(prediction)\n",
        "sns.heatmap(matrix, square=True, annot=True, cbar=False,xticklabels=names, yticklabels=names ,fmt='g')\n",
        "plt.xlabel('Truth')\n",
        "plt.ylabel('Predicted')\n",
        "\n",
        "###### Confusion matrix ends ########"
      ],
      "execution_count": null,
      "outputs": [
        {
          "output_type": "execute_result",
          "data": {
            "text/plain": [
              "Text(89.18, 0.5, 'Predicted')"
            ]
          },
          "metadata": {
            "tags": []
          },
          "execution_count": 95
        },
        {
          "output_type": "display_data",
          "data": {
            "image/png": "[encoded data removed]",
            "text/plain": [
              "<Figure size 432x288 with 1 Axes>"
            ]
          },
          "metadata": {
            "tags": [],
            "needs_background": "light"
          }
        }
      ]
    },
    {
      "cell_type": "code",
      "metadata": {
        "colab": {
          "base_uri": "https://localhost:8080/"
        },
        "id": "mplORfmvx8c_",
        "outputId": "606efaf0-5780-4662-e50f-4deacab25ce0"
      },
      "source": [
        "#calculating the accuracy\n",
        "accuracy_score = accuracy_score(y_test,prediction)\n",
        "print(\"Accuracy of  Logistic Regression :\",accuracy_score)"
      ],
      "execution_count": null,
      "outputs": [
        {
          "output_type": "stream",
          "text": [
            "Accuracy of  Logistic Regression : 0.928042328042328\n"
          ],
          "name": "stdout"
        }
      ]
    },
    {
      "cell_type": "code",
      "metadata": {
        "colab": {
          "base_uri": "https://localhost:8080/"
        },
        "id": "9OEombBb7eo1",
        "outputId": "da1672ec-d9b7-4b0b-b689-cf595e4cb8d3"
      },
      "source": [
        "#calculating the classification report\n",
        "Report = classification_report(y_test,prediction, )\n",
        "print(\" \",Report)"
      ],
      "execution_count": null,
      "outputs": [
        {
          "output_type": "stream",
          "text": [
            "                precision    recall  f1-score   support\n",
            "\n",
            "           0       0.85      0.14      0.24        77\n",
            "           1       0.93      1.00      0.96       868\n",
            "\n",
            "    accuracy                           0.93       945\n",
            "   macro avg       0.89      0.57      0.60       945\n",
            "weighted avg       0.92      0.93      0.90       945\n",
            "\n"
          ],
          "name": "stdout"
        }
      ]
    },
    {
      "cell_type": "code",
      "metadata": {
        "id": "IOYJvj0jizwc",
        "colab": {
          "base_uri": "https://localhost:8080/"
        },
        "outputId": "eaa89698-bb4f-4b37-9ac4-0190cb33546f"
      },
      "source": [
        "#calculating the Precision\n",
        "Precision_score = precision_score(y_test,prediction)\n",
        "print(\"Precision of  Logistic Regression :\",Precision_score)"
      ],
      "execution_count": null,
      "outputs": [
        {
          "output_type": "stream",
          "text": [
            "Precision of  Logistic Regression : 0.9291845493562232\n"
          ],
          "name": "stdout"
        }
      ]
    },
    {
      "cell_type": "code",
      "metadata": {
        "colab": {
          "base_uri": "https://localhost:8080/"
        },
        "id": "-MLAaJPjDKN2",
        "outputId": "733176ad-ca46-44dc-8b08-4b0b878583dc"
      },
      "source": [
        "#calculating the Recall\n",
        "Recall_score = recall_score(y_test,prediction)\n",
        "print(\"Recall of  Logistic Regression :\",Recall_score)"
      ],
      "execution_count": null,
      "outputs": [
        {
          "output_type": "stream",
          "text": [
            "Recall of  Logistic Regression : 0.9976958525345622\n"
          ],
          "name": "stdout"
        }
      ]
    },
    {
      "cell_type": "code",
      "metadata": {
        "colab": {
          "base_uri": "https://localhost:8080/"
        },
        "id": "76QebyqPDhgi",
        "outputId": "d40acd30-c78d-4f76-ba39-c395fed16619"
      },
      "source": [
        "#calculating the F1 score\n",
        "F1_score = f1_score(y_test,prediction)\n",
        "print(\"F1 Score of  Logistic Regression :\",F1_score)"
      ],
      "execution_count": null,
      "outputs": [
        {
          "output_type": "stream",
          "text": [
            "F1 Score of  Logistic Regression : 0.9622222222222223\n"
          ],
          "name": "stdout"
        }
      ]
    },
    {
      "cell_type": "code",
      "metadata": {
        "id": "TL-g0bs2ELrO"
      },
      "source": [
        ""
      ],
      "execution_count": null,
      "outputs": []
    }
  ]
}